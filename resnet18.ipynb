{
 "cells": [
  {
   "cell_type": "code",
   "execution_count": 62,
   "id": "dfbbc9da-681d-4cbb-af45-99fc909614e9",
   "metadata": {},
   "outputs": [
    {
     "name": "stdout",
     "output_type": "stream",
     "text": [
      "Model: \"model_10\"\n",
      "_________________________________________________________________\n",
      " Layer (type)                Output Shape              Param #   \n",
      "=================================================================\n",
      " input_14 (InputLayer)       [(None, 32, 32, 3)]       0         \n",
      "                                                                 \n",
      " conv_bn_re_lu_24 (ConvBNReL  (None, 32, 32, 64)       1984      \n",
      " U)                                                              \n",
      "                                                                 \n",
      " residual_block_51 (Residual  (None, 32, 32, 64)       74240     \n",
      " Block)                                                          \n",
      "                                                                 \n",
      " max_pooling2d_10 (MaxPoolin  (None, 16, 16, 64)       0         \n",
      " g2D)                                                            \n",
      "                                                                 \n",
      " residual_block_52 (Residual  (None, 8, 8, 128)        230912    \n",
      " Block)                                                          \n",
      "                                                                 \n",
      " residual_block_53 (Residual  (None, 4, 4, 256)        920576    \n",
      " Block)                                                          \n",
      "                                                                 \n",
      " residual_block_54 (Residual  (None, 2, 2, 512)        3676160   \n",
      " Block)                                                          \n",
      "                                                                 \n",
      " global_average_pooling2d_8   (None, 512)              0         \n",
      " (GlobalAveragePooling2D)                                        \n",
      "                                                                 \n",
      " dense_13 (Dense)            (None, 10)                5130      \n",
      "                                                                 \n",
      "=================================================================\n",
      "Total params: 4,909,002\n",
      "Trainable params: 4,903,242\n",
      "Non-trainable params: 5,760\n",
      "_________________________________________________________________\n"
     ]
    }
   ],
   "source": [
    "import tensorflow as tf\n",
    "from tensorflow.keras import layers, models\n",
    "from tensorflow.keras.datasets import cifar10\n",
    "from tensorflow.keras.utils import to_categorical\n",
    "from tensorflow.keras.preprocessing.image import ImageDataGenerator\n",
    "\n",
    "class ConvBNReLU(models.Sequential):\n",
    "    def __init__(self, c_out, **kwargs):\n",
    "        super().__init__([\n",
    "            layers.Conv2D(c_out, kernel_size=3, strides=1, padding='same', use_bias=False),\n",
    "            layers.BatchNormalization(),\n",
    "            layers.ReLU()\n",
    "        ])\n",
    "\n",
    "class ResidualBlock(tf.keras.Model):\n",
    "    def __init__(self, in_channels, out_channels, strides=1):\n",
    "        super(ResidualBlock, self).__init__()\n",
    "        self.conv1 = layers.Conv2D(out_channels, kernel_size=3, strides=strides, padding='same', use_bias=False)\n",
    "        self.bn1 = layers.BatchNormalization()\n",
    "        self.relu1 = layers.Activation('relu')\n",
    "        self.conv2 = layers.Conv2D(out_channels, kernel_size=3, strides=1, padding='same', use_bias=False)\n",
    "        self.bn2 = layers.BatchNormalization()\n",
    "\n",
    "        self.shortcut = tf.keras.Sequential()\n",
    "        if strides != 1 or in_channels != out_channels:\n",
    "            self.shortcut = tf.keras.Sequential([\n",
    "                layers.Conv2D(out_channels, kernel_size=1, strides=strides, padding='same', use_bias=False),\n",
    "                layers.BatchNormalization()\n",
    "            ])\n",
    "\n",
    "    def call(self, inputs):\n",
    "        out = self.relu1(self.bn1(self.conv1(inputs)))\n",
    "        out = self.bn2(self.conv2(out))\n",
    "        shortcut = self.shortcut(inputs)\n",
    "        \n",
    "        out += shortcut\n",
    "        out = tf.nn.relu(out)\n",
    "        return out\n",
    "\n",
    "def make_resnet(input_shape=(32, 32, 3), num_classes=10):\n",
    "    inputs = tf.keras.Input(shape=input_shape)\n",
    "\n",
    "    # Initial convolution and batch normalization\n",
    "    x = ConvBNReLU(64, input_shape=input_shape)(inputs)\n",
    "    \n",
    "    # Residual Blocks\n",
    "    x = ResidualBlock(in_channels=64, out_channels=64, strides=1)(x)\n",
    "    x = layers.MaxPooling2D(pool_size=(2, 2))(x)\n",
    "\n",
    "    x = ResidualBlock(in_channels=64, out_channels=128, strides=2)(x)\n",
    "\n",
    "    x = ResidualBlock(in_channels=128, out_channels=256, strides=2)(x)\n",
    "\n",
    "    x = ResidualBlock(in_channels=256, out_channels=512, strides=2)(x)\n",
    "\n",
    "    # Global average pooling and dense layer for classification\n",
    "    x = layers.GlobalAveragePooling2D()(x)\n",
    "    outputs = layers.Dense(num_classes, activation='softmax')(x)\n",
    "\n",
    "    # Create model\n",
    "    model = tf.keras.Model(inputs=inputs, outputs=outputs)\n",
    "\n",
    "    return model\n",
    "    \n",
    "# Create and compile the model\n",
    "model = make_resnet()\n",
    "model.summary()"
   ]
  },
  {
   "cell_type": "code",
   "execution_count": 63,
   "id": "b2b90ffb-80db-4413-a10e-fc64d40d7101",
   "metadata": {},
   "outputs": [],
   "source": [
    "# Load and prepare the CIFAR-10 dataset\n",
    "(x_train, y_train), (x_test, y_test) = cifar10.load_data()\n",
    "x_train, x_test = x_train / 255.0, x_test / 255.0\n",
    "y_train = to_categorical(y_train, 10)\n",
    "y_test = to_categorical(y_test, 10)"
   ]
  },
  {
   "cell_type": "code",
   "execution_count": 64,
   "id": "f4b5eca1-0aab-4417-8662-f62465e125ec",
   "metadata": {},
   "outputs": [],
   "source": [
    "from PIL import Image, ImageEnhance, ImageOps\n",
    "import random\n",
    "\n",
    "class ShearX(object):\n",
    "    def __init__(self, fillcolor=(128, 128, 128)):\n",
    "        self.fillcolor = fillcolor\n",
    "\n",
    "    def __call__(self, x, magnitude):\n",
    "        return x.transform(\n",
    "            x.size, Image.AFFINE, (1, magnitude * random.choice([-1, 1]), 0, 0, 1, 0),\n",
    "            Image.BICUBIC, fillcolor=self.fillcolor)\n",
    "\n",
    "\n",
    "class ShearY(object):\n",
    "    def __init__(self, fillcolor=(128, 128, 128)):\n",
    "        self.fillcolor = fillcolor\n",
    "\n",
    "    def __call__(self, x, magnitude):\n",
    "        return x.transform(\n",
    "            x.size, Image.AFFINE, (1, 0, 0, magnitude * random.choice([-1, 1]), 1, 0),\n",
    "            Image.BICUBIC, fillcolor=self.fillcolor)\n",
    "\n",
    "\n",
    "class TranslateX(object):\n",
    "    def __init__(self, fillcolor=(128, 128, 128)):\n",
    "        self.fillcolor = fillcolor\n",
    "\n",
    "    def __call__(self, x, magnitude):\n",
    "        return x.transform(\n",
    "            x.size, Image.AFFINE, (1, 0, magnitude * x.size[0] * random.choice([-1, 1]), 0, 1, 0),\n",
    "            fillcolor=self.fillcolor)\n",
    "\n",
    "\n",
    "class TranslateY(object):\n",
    "    def __init__(self, fillcolor=(128, 128, 128)):\n",
    "        self.fillcolor = fillcolor\n",
    "\n",
    "    def __call__(self, x, magnitude):\n",
    "        return x.transform(\n",
    "            x.size, Image.AFFINE, (1, 0, 0, 0, 1, magnitude * x.size[1] * random.choice([-1, 1])),\n",
    "            fillcolor=self.fillcolor)\n",
    "\n",
    "\n",
    "class Rotate(object):\n",
    "    # from https://stackoverflow.com/questions/\n",
    "    # 5252170/specify-image-filling-color-when-rotating-in-python-with-pil-and-setting-expand\n",
    "    def __call__(self, x, magnitude):\n",
    "        rot = x.convert(\"RGBA\").rotate(magnitude * random.choice([-1, 1]))\n",
    "        return Image.composite(rot, Image.new(\"RGBA\", rot.size, (128,) * 4), rot).convert(x.mode)\n",
    "\n",
    "\n",
    "class Color(object):\n",
    "    def __call__(self, x, magnitude):\n",
    "        return ImageEnhance.Color(x).enhance(1 + magnitude * random.choice([-1, 1]))\n",
    "\n",
    "\n",
    "class Posterize(object):\n",
    "    def __call__(self, x, magnitude):\n",
    "        return ImageOps.posterize(x, magnitude)\n",
    "\n",
    "\n",
    "class Solarize(object):\n",
    "    def __call__(self, x, magnitude):\n",
    "        return ImageOps.solarize(x, magnitude)\n",
    "\n",
    "\n",
    "class Contrast(object):\n",
    "    def __call__(self, x, magnitude):\n",
    "        return ImageEnhance.Contrast(x).enhance(1 + magnitude * random.choice([-1, 1]))\n",
    "\n",
    "\n",
    "class Sharpness(object):\n",
    "    def __call__(self, x, magnitude):\n",
    "        return ImageEnhance.Sharpness(x).enhance(1 + magnitude * random.choice([-1, 1]))\n",
    "\n",
    "\n",
    "class Brightness(object):\n",
    "    def __call__(self, x, magnitude):\n",
    "        return ImageEnhance.Brightness(x).enhance(1 + magnitude * random.choice([-1, 1]))\n",
    "\n",
    "\n",
    "class AutoContrast(object):\n",
    "    def __call__(self, x, magnitude):\n",
    "        return ImageOps.autocontrast(x)\n",
    "\n",
    "\n",
    "class Equalize(object):\n",
    "    def __call__(self, x, magnitude):\n",
    "        return ImageOps.equalize(x)\n",
    "\n",
    "\n",
    "class Invert(object):\n",
    "    def __call__(self, x, magnitude):\n",
    "        return ImageOps.invert(x)"
   ]
  },
  {
   "cell_type": "code",
   "execution_count": 65,
   "id": "9c2382b1-97e2-45d2-bdf9-2b4e70d74a83",
   "metadata": {},
   "outputs": [],
   "source": [
    "class CIFAR10Policy(object):\n",
    "    \"\"\" Randomly choose one of the best 25 Sub-policies on CIFAR10.\n",
    "\n",
    "        Example:\n",
    "        >>> policy = CIFAR10Policy()\n",
    "        >>> transformed = policy(image)\n",
    "\n",
    "        Example as a PyTorch Transform:\n",
    "        >>> transform=transforms.Compose([\n",
    "        >>>     transforms.Resize(256),\n",
    "        >>>     CIFAR10Policy(),\n",
    "        >>>     transforms.ToTensor()])\n",
    "    \"\"\"\n",
    "    def __init__(self, fillcolor=(128, 128, 128)):\n",
    "        self.policies = [\n",
    "            SubPolicy(0.1, \"invert\", 7, 0.2, \"contrast\", 6, fillcolor),\n",
    "            SubPolicy(0.7, \"rotate\", 2, 0.3, \"translateX\", 9, fillcolor),\n",
    "            SubPolicy(0.8, \"sharpness\", 1, 0.9, \"sharpness\", 3, fillcolor),\n",
    "            SubPolicy(0.5, \"shearY\", 8, 0.7, \"translateY\", 9, fillcolor),\n",
    "            SubPolicy(0.5, \"autocontrast\", 8, 0.9, \"equalize\", 2, fillcolor),\n",
    "\n",
    "            SubPolicy(0.2, \"shearY\", 7, 0.3, \"posterize\", 7, fillcolor),\n",
    "            SubPolicy(0.4, \"color\", 3, 0.6, \"brightness\", 7, fillcolor),\n",
    "            SubPolicy(0.3, \"sharpness\", 9, 0.7, \"brightness\", 9, fillcolor),\n",
    "            SubPolicy(0.6, \"equalize\", 5, 0.5, \"equalize\", 1, fillcolor),\n",
    "            SubPolicy(0.6, \"contrast\", 7, 0.6, \"sharpness\", 5, fillcolor),\n",
    "\n",
    "            SubPolicy(0.7, \"color\", 7, 0.5, \"translateX\", 8, fillcolor),\n",
    "            SubPolicy(0.3, \"equalize\", 7, 0.4, \"autocontrast\", 8, fillcolor),\n",
    "            SubPolicy(0.4, \"translateY\", 3, 0.2, \"sharpness\", 6, fillcolor),\n",
    "            SubPolicy(0.9, \"brightness\", 6, 0.2, \"color\", 8, fillcolor),\n",
    "            SubPolicy(0.5, \"solarize\", 2, 0.0, \"invert\", 3, fillcolor),\n",
    "\n",
    "            SubPolicy(0.2, \"equalize\", 0, 0.6, \"autocontrast\", 0, fillcolor),\n",
    "            SubPolicy(0.2, \"equalize\", 8, 0.6, \"equalize\", 4, fillcolor),\n",
    "            SubPolicy(0.9, \"color\", 9, 0.6, \"equalize\", 6, fillcolor),\n",
    "            SubPolicy(0.8, \"autocontrast\", 4, 0.2, \"solarize\", 8, fillcolor),\n",
    "            SubPolicy(0.1, \"brightness\", 3, 0.7, \"color\", 0, fillcolor),\n",
    "\n",
    "            SubPolicy(0.4, \"solarize\", 5, 0.9, \"autocontrast\", 3, fillcolor),\n",
    "            SubPolicy(0.9, \"translateY\", 9, 0.7, \"translateY\", 9, fillcolor),\n",
    "            SubPolicy(0.9, \"autocontrast\", 2, 0.8, \"solarize\", 3, fillcolor),\n",
    "            SubPolicy(0.8, \"equalize\", 8, 0.1, \"invert\", 3, fillcolor),\n",
    "            SubPolicy(0.7, \"translateY\", 9, 0.9, \"autocontrast\", 1, fillcolor)\n",
    "        ]\n",
    "\n",
    "    def __call__(self, img):\n",
    "        policy_idx = random.randint(0, len(self.policies) - 1)\n",
    "        return self.policies[policy_idx](img)\n",
    "\n",
    "    def __repr__(self):\n",
    "        return \"AutoAugment CIFAR10 Policy\"\n",
    "\n",
    "class SubPolicy(object):\n",
    "    def __init__(self, p1, operation1, magnitude_idx1, p2, operation2, magnitude_idx2, fillcolor=(128, 128, 128)):\n",
    "        ranges = {\n",
    "            \"shearX\": np.linspace(0, 0.3, 10),\n",
    "            \"shearY\": np.linspace(0, 0.3, 10),\n",
    "            \"translateX\": np.linspace(0, 150 / 331, 10),\n",
    "            \"translateY\": np.linspace(0, 150 / 331, 10),\n",
    "            \"rotate\": np.linspace(0, 30, 10),\n",
    "            \"color\": np.linspace(0.0, 0.9, 10),\n",
    "            \"posterize\": np.round(np.linspace(8, 4, 10), 0).astype(int),\n",
    "            \"solarize\": np.linspace(256, 0, 10),\n",
    "            \"contrast\": np.linspace(0.0, 0.9, 10),\n",
    "            \"sharpness\": np.linspace(0.0, 0.9, 10),\n",
    "            \"brightness\": np.linspace(0.0, 0.9, 10),\n",
    "            \"autocontrast\": [0] * 10,\n",
    "            \"equalize\": [0] * 10,\n",
    "            \"invert\": [0] * 10\n",
    "        }\n",
    "\n",
    "        func = {\n",
    "            \"shearX\": ShearX(fillcolor=fillcolor),\n",
    "            \"shearY\": ShearY(fillcolor=fillcolor),\n",
    "            \"translateX\": TranslateX(fillcolor=fillcolor),\n",
    "            \"translateY\": TranslateY(fillcolor=fillcolor),\n",
    "            \"rotate\": Rotate(),\n",
    "            \"color\": Color(),\n",
    "            \"posterize\": Posterize(),\n",
    "            \"solarize\": Solarize(),\n",
    "            \"contrast\": Contrast(),\n",
    "            \"sharpness\": Sharpness(),\n",
    "            \"brightness\": Brightness(),\n",
    "            \"autocontrast\": AutoContrast(),\n",
    "            \"equalize\": Equalize(),\n",
    "            \"invert\": Invert()\n",
    "        }\n",
    "\n",
    "        self.p1 = p1\n",
    "        self.operation1 = func[operation1]\n",
    "        self.magnitude1 = ranges[operation1][magnitude_idx1]\n",
    "        self.p2 = p2\n",
    "        self.operation2 = func[operation2]\n",
    "        self.magnitude2 = ranges[operation2][magnitude_idx2]\n",
    "\n",
    "    def __call__(self, img):\n",
    "        if random.random() < self.p1:\n",
    "            img = self.operation1(img, self.magnitude1)\n",
    "        if random.random() < self.p2:\n",
    "            img = self.operation2(img, self.magnitude2)\n",
    "        return img"
   ]
  },
  {
   "cell_type": "code",
   "execution_count": 66,
   "id": "e816846d-81a0-4415-b384-09aa32720e4c",
   "metadata": {},
   "outputs": [],
   "source": [
    "def apply_cutout(image, num_holes=1, max_h_size=8, max_w_size=8):\n",
    "    \"\"\"Applies Cutout augmentation to a single image.\"\"\"\n",
    "    # Convert PIL Image to numpy array\n",
    "    image_np = np.array(image)\n",
    "    \n",
    "    h, w = image_np.shape[:2]\n",
    "    mask = np.ones((h, w), np.float32)\n",
    "\n",
    "    for _ in range(num_holes):\n",
    "        y = np.random.randint(h)\n",
    "        x = np.random.randint(w)\n",
    "        \n",
    "        y1 = np.clip(y - max_h_size // 2, 0, h)\n",
    "        y2 = np.clip(y + max_h_size // 2, 0, h)\n",
    "        x1 = np.clip(x - max_w_size // 2, 0, w)\n",
    "        x2 = np.clip(x + max_w_size // 2, 0, w)\n",
    "\n",
    "        mask[y1: y2, x1: x2] = 0.\n",
    "\n",
    "    # Apply mask\n",
    "    image_np = image_np * mask[:, :, np.newaxis]\n",
    "\n",
    "    # Convert back to PIL Image\n",
    "    return Image.fromarray(image_np.astype('uint8'))"
   ]
  },
  {
   "cell_type": "code",
   "execution_count": 67,
   "id": "9470ea32-2913-419c-bb70-5624933136ac",
   "metadata": {},
   "outputs": [],
   "source": [
    "def pad_image(image, pad_size=4, fill=0, padding_mode='reflect'):\n",
    "    \"\"\"Pad the given PIL Image on all sides with the given pad_size.\"\"\"\n",
    "    return ImageOps.expand(image, border=pad_size, fill=fill)\n",
    "\n",
    "def random_crop(image, crop_size=(32, 32)):\n",
    "    \"\"\"Crop a random part of the image to the given size.\"\"\"\n",
    "    width, height = image.size\n",
    "    new_width, new_height = crop_size\n",
    "\n",
    "    left = np.random.randint(0, width - new_width + 1)\n",
    "    top = np.random.randint(0, height - new_height + 1)\n",
    "\n",
    "    image = image.crop((left, top, left + new_width, top + new_height))\n",
    "    return image"
   ]
  },
  {
   "cell_type": "code",
   "execution_count": 68,
   "id": "b381f752-465c-4b85-94d3-60d78d910964",
   "metadata": {},
   "outputs": [],
   "source": [
    "def random_horizontal_flip(image, p=0.5):\n",
    "    \"\"\"Randomly flip the image horizontally with a probability of p.\"\"\"\n",
    "    if random.random() < p:\n",
    "        return image.transpose(Image.FLIP_LEFT_RIGHT)\n",
    "    return image\n",
    "\n",
    "def random_rotation(image, max_angle=20):\n",
    "    \"\"\"Randomly rotate the image within a given angle range.\"\"\"\n",
    "    angle = random.uniform(-max_angle, max_angle)\n",
    "    return image.rotate(angle)"
   ]
  },
  {
   "cell_type": "code",
   "execution_count": 69,
   "id": "d7e74998-0748-4fc5-898d-0ed7d312abe1",
   "metadata": {},
   "outputs": [],
   "source": [
    "from tensorflow.keras.utils import Sequence\n",
    "import numpy as np\n",
    "import random\n",
    "\n",
    "class CustomImageDataGenerator(Sequence):\n",
    "    def __init__(self, x_set, y_set, batch_size=64, augmentations=None):\n",
    "        self.x_set = x_set\n",
    "        self.y_set = y_set\n",
    "        self.batch_size = batch_size\n",
    "        self.augmentations = augmentations if augmentations else []\n",
    "\n",
    "    def __len__(self):\n",
    "        return np.ceil(len(self.x_set) / self.batch_size).astype(int)\n",
    "\n",
    "    def __getitem__(self, idx):\n",
    "        batch_x = self.x_set[idx * self.batch_size:(idx + 1) * self.batch_size]\n",
    "        batch_y = self.y_set[idx * self.batch_size:(idx + 1) * self.batch_size]\n",
    "        \n",
    "        # Convert numpy arrays to PIL Images, apply augmentations, and convert back to numpy arrays\n",
    "        x_batch_aug = np.array([self.apply_augmentations(Image.fromarray((image * 255).astype('uint8'))) for image in batch_x])\n",
    "        \n",
    "        # Convert PIL Images back to numpy arrays and normalize to [0, 1]\n",
    "        x_batch_aug = np.array([np.array(image) for image in x_batch_aug]).astype('float32') / 255.0\n",
    "        \n",
    "        return x_batch_aug, batch_y\n",
    "\n",
    "    def apply_augmentations(self, image):\n",
    "        augmented_image = image\n",
    "        for augmentation in self.augmentations:\n",
    "            augmented_image = augmentation(augmented_image)\n",
    "        return augmented_image\n",
    "\n",
    "# Assuming CIFAR10Policy and apply_cutout are defined elsewhere\n",
    "custom_augmentations = [pad_image, random_crop, random_horizontal_flip, random_rotation, CIFAR10Policy(), apply_cutout]"
   ]
  },
  {
   "cell_type": "code",
   "execution_count": 70,
   "id": "4fbb7f36-4cca-483e-a8f9-0338f82e1fae",
   "metadata": {},
   "outputs": [],
   "source": [
    "lr = 0.05\n",
    "momentum = 0.9\n",
    "weight_decay = 0.0005\n",
    "\n",
    "optimizer = tf.keras.optimizers.SGD(\n",
    "    learning_rate=lr, \n",
    "    momentum=momentum, \n",
    "    nesterov=True,\n",
    "    decay=weight_decay\n",
    ")\n",
    "\n",
    "# Compile the model with the updated learning_rate parameter\n",
    "model.compile(optimizer=optimizer,\n",
    "              loss='categorical_crossentropy',\n",
    "              metrics=['accuracy'])"
   ]
  },
  {
   "cell_type": "code",
   "execution_count": 71,
   "id": "fc60d339-0e76-421e-bab3-2e381c21c62e",
   "metadata": {},
   "outputs": [
    {
     "name": "stdout",
     "output_type": "stream",
     "text": [
      "Epoch 1/250\n",
      "390/390 [==============================] - ETA: 0s - loss: 1.9001 - accuracy: 0.3184\n",
      "Epoch 1: val_accuracy improved from -inf to 0.44500, saving model to best_model\n"
     ]
    },
    {
     "name": "stderr",
     "output_type": "stream",
     "text": [
      "WARNING:absl:Found untraced functions such as _jit_compiled_convolution_op, _jit_compiled_convolution_op, _jit_compiled_convolution_op, _jit_compiled_convolution_op, _jit_compiled_convolution_op while saving (showing 5 of 12). These functions will not be directly callable after loading.\n"
     ]
    },
    {
     "name": "stdout",
     "output_type": "stream",
     "text": [
      "INFO:tensorflow:Assets written to: best_model\\assets\n"
     ]
    },
    {
     "name": "stderr",
     "output_type": "stream",
     "text": [
      "INFO:tensorflow:Assets written to: best_model\\assets\n"
     ]
    },
    {
     "name": "stdout",
     "output_type": "stream",
     "text": [
      "390/390 [==============================] - 19s 48ms/step - loss: 1.9001 - accuracy: 0.3184 - val_loss: 1.5079 - val_accuracy: 0.4450\n",
      "Epoch 2/250\n",
      "390/390 [==============================] - ETA: 0s - loss: 1.5290 - accuracy: 0.4466\n",
      "Epoch 2: val_accuracy improved from 0.44500 to 0.56430, saving model to best_model\n"
     ]
    },
    {
     "name": "stderr",
     "output_type": "stream",
     "text": [
      "WARNING:absl:Found untraced functions such as _jit_compiled_convolution_op, _jit_compiled_convolution_op, _jit_compiled_convolution_op, _jit_compiled_convolution_op, _jit_compiled_convolution_op while saving (showing 5 of 12). These functions will not be directly callable after loading.\n"
     ]
    },
    {
     "name": "stdout",
     "output_type": "stream",
     "text": [
      "INFO:tensorflow:Assets written to: best_model\\assets\n"
     ]
    },
    {
     "name": "stderr",
     "output_type": "stream",
     "text": [
      "INFO:tensorflow:Assets written to: best_model\\assets\n"
     ]
    },
    {
     "name": "stdout",
     "output_type": "stream",
     "text": [
      "390/390 [==============================] - 18s 46ms/step - loss: 1.5290 - accuracy: 0.4466 - val_loss: 1.2596 - val_accuracy: 0.5643\n",
      "Epoch 3/250\n",
      "390/390 [==============================] - ETA: 0s - loss: 1.3666 - accuracy: 0.5108\n",
      "Epoch 3: val_accuracy improved from 0.56430 to 0.61970, saving model to best_model\n"
     ]
    },
    {
     "name": "stderr",
     "output_type": "stream",
     "text": [
      "WARNING:absl:Found untraced functions such as _jit_compiled_convolution_op, _jit_compiled_convolution_op, _jit_compiled_convolution_op, _jit_compiled_convolution_op, _jit_compiled_convolution_op while saving (showing 5 of 12). These functions will not be directly callable after loading.\n"
     ]
    },
    {
     "name": "stdout",
     "output_type": "stream",
     "text": [
      "INFO:tensorflow:Assets written to: best_model\\assets\n"
     ]
    },
    {
     "name": "stderr",
     "output_type": "stream",
     "text": [
      "INFO:tensorflow:Assets written to: best_model\\assets\n"
     ]
    },
    {
     "name": "stdout",
     "output_type": "stream",
     "text": [
      "390/390 [==============================] - 18s 46ms/step - loss: 1.3666 - accuracy: 0.5108 - val_loss: 1.0795 - val_accuracy: 0.6197\n",
      "Epoch 4/250\n",
      "390/390 [==============================] - ETA: 0s - loss: 1.2507 - accuracy: 0.5521\n",
      "Epoch 4: val_accuracy improved from 0.61970 to 0.63520, saving model to best_model\n"
     ]
    },
    {
     "name": "stderr",
     "output_type": "stream",
     "text": [
      "WARNING:absl:Found untraced functions such as _jit_compiled_convolution_op, _jit_compiled_convolution_op, _jit_compiled_convolution_op, _jit_compiled_convolution_op, _jit_compiled_convolution_op while saving (showing 5 of 12). These functions will not be directly callable after loading.\n"
     ]
    },
    {
     "name": "stdout",
     "output_type": "stream",
     "text": [
      "INFO:tensorflow:Assets written to: best_model\\assets\n"
     ]
    },
    {
     "name": "stderr",
     "output_type": "stream",
     "text": [
      "INFO:tensorflow:Assets written to: best_model\\assets\n"
     ]
    },
    {
     "name": "stdout",
     "output_type": "stream",
     "text": [
      "390/390 [==============================] - 19s 48ms/step - loss: 1.2507 - accuracy: 0.5521 - val_loss: 1.0310 - val_accuracy: 0.6352\n",
      "Epoch 5/250\n",
      "389/390 [============================>.] - ETA: 0s - loss: 1.1711 - accuracy: 0.5832\n",
      "Epoch 5: val_accuracy improved from 0.63520 to 0.67880, saving model to best_model\n"
     ]
    },
    {
     "name": "stderr",
     "output_type": "stream",
     "text": [
      "WARNING:absl:Found untraced functions such as _jit_compiled_convolution_op, _jit_compiled_convolution_op, _jit_compiled_convolution_op, _jit_compiled_convolution_op, _jit_compiled_convolution_op while saving (showing 5 of 12). These functions will not be directly callable after loading.\n"
     ]
    },
    {
     "name": "stdout",
     "output_type": "stream",
     "text": [
      "INFO:tensorflow:Assets written to: best_model\\assets\n"
     ]
    },
    {
     "name": "stderr",
     "output_type": "stream",
     "text": [
      "INFO:tensorflow:Assets written to: best_model\\assets\n"
     ]
    },
    {
     "name": "stdout",
     "output_type": "stream",
     "text": [
      "390/390 [==============================] - 18s 46ms/step - loss: 1.1709 - accuracy: 0.5832 - val_loss: 0.8967 - val_accuracy: 0.6788\n",
      "Epoch 6/250\n",
      "389/390 [============================>.] - ETA: 0s - loss: 1.1128 - accuracy: 0.6051\n",
      "Epoch 6: val_accuracy improved from 0.67880 to 0.72660, saving model to best_model\n"
     ]
    },
    {
     "name": "stderr",
     "output_type": "stream",
     "text": [
      "WARNING:absl:Found untraced functions such as _jit_compiled_convolution_op, _jit_compiled_convolution_op, _jit_compiled_convolution_op, _jit_compiled_convolution_op, _jit_compiled_convolution_op while saving (showing 5 of 12). These functions will not be directly callable after loading.\n"
     ]
    },
    {
     "name": "stdout",
     "output_type": "stream",
     "text": [
      "INFO:tensorflow:Assets written to: best_model\\assets\n"
     ]
    },
    {
     "name": "stderr",
     "output_type": "stream",
     "text": [
      "INFO:tensorflow:Assets written to: best_model\\assets\n"
     ]
    },
    {
     "name": "stdout",
     "output_type": "stream",
     "text": [
      "390/390 [==============================] - 18s 47ms/step - loss: 1.1128 - accuracy: 0.6051 - val_loss: 0.7848 - val_accuracy: 0.7266\n",
      "Epoch 7/250\n",
      "389/390 [============================>.] - ETA: 0s - loss: 1.0555 - accuracy: 0.6271\n",
      "Epoch 7: val_accuracy did not improve from 0.72660\n",
      "390/390 [==============================] - 15s 39ms/step - loss: 1.0555 - accuracy: 0.6272 - val_loss: 0.8543 - val_accuracy: 0.6954\n",
      "Epoch 8/250\n",
      "390/390 [==============================] - ETA: 0s - loss: 1.0016 - accuracy: 0.6452\n",
      "Epoch 8: val_accuracy did not improve from 0.72660\n",
      "390/390 [==============================] - 16s 41ms/step - loss: 1.0016 - accuracy: 0.6452 - val_loss: 0.8271 - val_accuracy: 0.7121\n",
      "Epoch 9/250\n",
      "390/390 [==============================] - ETA: 0s - loss: 0.9735 - accuracy: 0.6545\n",
      "Epoch 9: val_accuracy improved from 0.72660 to 0.75630, saving model to best_model\n"
     ]
    },
    {
     "name": "stderr",
     "output_type": "stream",
     "text": [
      "WARNING:absl:Found untraced functions such as _jit_compiled_convolution_op, _jit_compiled_convolution_op, _jit_compiled_convolution_op, _jit_compiled_convolution_op, _jit_compiled_convolution_op while saving (showing 5 of 12). These functions will not be directly callable after loading.\n"
     ]
    },
    {
     "name": "stdout",
     "output_type": "stream",
     "text": [
      "INFO:tensorflow:Assets written to: best_model\\assets\n"
     ]
    },
    {
     "name": "stderr",
     "output_type": "stream",
     "text": [
      "INFO:tensorflow:Assets written to: best_model\\assets\n"
     ]
    },
    {
     "name": "stdout",
     "output_type": "stream",
     "text": [
      "390/390 [==============================] - 17s 45ms/step - loss: 0.9735 - accuracy: 0.6545 - val_loss: 0.6953 - val_accuracy: 0.7563\n",
      "Epoch 10/250\n",
      "390/390 [==============================] - ETA: 0s - loss: 0.9363 - accuracy: 0.6679\n",
      "Epoch 10: val_accuracy improved from 0.75630 to 0.77180, saving model to best_model\n"
     ]
    },
    {
     "name": "stderr",
     "output_type": "stream",
     "text": [
      "WARNING:absl:Found untraced functions such as _jit_compiled_convolution_op, _jit_compiled_convolution_op, _jit_compiled_convolution_op, _jit_compiled_convolution_op, _jit_compiled_convolution_op while saving (showing 5 of 12). These functions will not be directly callable after loading.\n"
     ]
    },
    {
     "name": "stdout",
     "output_type": "stream",
     "text": [
      "INFO:tensorflow:Assets written to: best_model\\assets\n"
     ]
    },
    {
     "name": "stderr",
     "output_type": "stream",
     "text": [
      "INFO:tensorflow:Assets written to: best_model\\assets\n"
     ]
    },
    {
     "name": "stdout",
     "output_type": "stream",
     "text": [
      "390/390 [==============================] - 19s 49ms/step - loss: 0.9363 - accuracy: 0.6679 - val_loss: 0.6574 - val_accuracy: 0.7718\n",
      "Epoch 11/250\n",
      "390/390 [==============================] - ETA: 0s - loss: 0.9077 - accuracy: 0.6790\n",
      "Epoch 11: val_accuracy improved from 0.77180 to 0.78400, saving model to best_model\n"
     ]
    },
    {
     "name": "stderr",
     "output_type": "stream",
     "text": [
      "WARNING:absl:Found untraced functions such as _jit_compiled_convolution_op, _jit_compiled_convolution_op, _jit_compiled_convolution_op, _jit_compiled_convolution_op, _jit_compiled_convolution_op while saving (showing 5 of 12). These functions will not be directly callable after loading.\n"
     ]
    },
    {
     "name": "stdout",
     "output_type": "stream",
     "text": [
      "INFO:tensorflow:Assets written to: best_model\\assets\n"
     ]
    },
    {
     "name": "stderr",
     "output_type": "stream",
     "text": [
      "INFO:tensorflow:Assets written to: best_model\\assets\n"
     ]
    },
    {
     "name": "stdout",
     "output_type": "stream",
     "text": [
      "390/390 [==============================] - 19s 47ms/step - loss: 0.9077 - accuracy: 0.6790 - val_loss: 0.6175 - val_accuracy: 0.7840\n",
      "Epoch 12/250\n",
      "389/390 [============================>.] - ETA: 0s - loss: 0.8842 - accuracy: 0.6887\n",
      "Epoch 12: val_accuracy improved from 0.78400 to 0.80170, saving model to best_model\n"
     ]
    },
    {
     "name": "stderr",
     "output_type": "stream",
     "text": [
      "WARNING:absl:Found untraced functions such as _jit_compiled_convolution_op, _jit_compiled_convolution_op, _jit_compiled_convolution_op, _jit_compiled_convolution_op, _jit_compiled_convolution_op while saving (showing 5 of 12). These functions will not be directly callable after loading.\n"
     ]
    },
    {
     "name": "stdout",
     "output_type": "stream",
     "text": [
      "INFO:tensorflow:Assets written to: best_model\\assets\n"
     ]
    },
    {
     "name": "stderr",
     "output_type": "stream",
     "text": [
      "INFO:tensorflow:Assets written to: best_model\\assets\n"
     ]
    },
    {
     "name": "stdout",
     "output_type": "stream",
     "text": [
      "390/390 [==============================] - 18s 46ms/step - loss: 0.8841 - accuracy: 0.6886 - val_loss: 0.5784 - val_accuracy: 0.8017\n",
      "Epoch 13/250\n",
      "390/390 [==============================] - ETA: 0s - loss: 0.8612 - accuracy: 0.6959\n",
      "Epoch 13: val_accuracy did not improve from 0.80170\n",
      "390/390 [==============================] - 16s 41ms/step - loss: 0.8612 - accuracy: 0.6959 - val_loss: 0.6010 - val_accuracy: 0.7874\n",
      "Epoch 14/250\n",
      "390/390 [==============================] - ETA: 0s - loss: 0.8428 - accuracy: 0.7004\n",
      "Epoch 14: val_accuracy improved from 0.80170 to 0.81100, saving model to best_model\n"
     ]
    },
    {
     "name": "stderr",
     "output_type": "stream",
     "text": [
      "WARNING:absl:Found untraced functions such as _jit_compiled_convolution_op, _jit_compiled_convolution_op, _jit_compiled_convolution_op, _jit_compiled_convolution_op, _jit_compiled_convolution_op while saving (showing 5 of 12). These functions will not be directly callable after loading.\n"
     ]
    },
    {
     "name": "stdout",
     "output_type": "stream",
     "text": [
      "INFO:tensorflow:Assets written to: best_model\\assets\n"
     ]
    },
    {
     "name": "stderr",
     "output_type": "stream",
     "text": [
      "INFO:tensorflow:Assets written to: best_model\\assets\n"
     ]
    },
    {
     "name": "stdout",
     "output_type": "stream",
     "text": [
      "390/390 [==============================] - 18s 46ms/step - loss: 0.8428 - accuracy: 0.7004 - val_loss: 0.5446 - val_accuracy: 0.8110\n",
      "Epoch 15/250\n",
      "390/390 [==============================] - ETA: 0s - loss: 0.8215 - accuracy: 0.7088\n",
      "Epoch 15: val_accuracy did not improve from 0.81100\n",
      "390/390 [==============================] - 20s 51ms/step - loss: 0.8215 - accuracy: 0.7088 - val_loss: 0.5612 - val_accuracy: 0.8028\n",
      "Epoch 16/250\n",
      "390/390 [==============================] - ETA: 0s - loss: 0.8115 - accuracy: 0.7143\n",
      "Epoch 16: val_accuracy did not improve from 0.81100\n",
      "390/390 [==============================] - 16s 42ms/step - loss: 0.8115 - accuracy: 0.7143 - val_loss: 0.5707 - val_accuracy: 0.8040\n",
      "Epoch 17/250\n",
      "389/390 [============================>.] - ETA: 0s - loss: 0.7906 - accuracy: 0.7221\n",
      "Epoch 17: val_accuracy improved from 0.81100 to 0.81840, saving model to best_model\n"
     ]
    },
    {
     "name": "stderr",
     "output_type": "stream",
     "text": [
      "WARNING:absl:Found untraced functions such as _jit_compiled_convolution_op, _jit_compiled_convolution_op, _jit_compiled_convolution_op, _jit_compiled_convolution_op, _jit_compiled_convolution_op while saving (showing 5 of 12). These functions will not be directly callable after loading.\n"
     ]
    },
    {
     "name": "stdout",
     "output_type": "stream",
     "text": [
      "INFO:tensorflow:Assets written to: best_model\\assets\n"
     ]
    },
    {
     "name": "stderr",
     "output_type": "stream",
     "text": [
      "INFO:tensorflow:Assets written to: best_model\\assets\n"
     ]
    },
    {
     "name": "stdout",
     "output_type": "stream",
     "text": [
      "390/390 [==============================] - 19s 48ms/step - loss: 0.7907 - accuracy: 0.7220 - val_loss: 0.5418 - val_accuracy: 0.8184\n",
      "Epoch 18/250\n",
      "389/390 [============================>.] - ETA: 0s - loss: 0.7763 - accuracy: 0.7270\n",
      "Epoch 18: val_accuracy improved from 0.81840 to 0.82210, saving model to best_model\n"
     ]
    },
    {
     "name": "stderr",
     "output_type": "stream",
     "text": [
      "WARNING:absl:Found untraced functions such as _jit_compiled_convolution_op, _jit_compiled_convolution_op, _jit_compiled_convolution_op, _jit_compiled_convolution_op, _jit_compiled_convolution_op while saving (showing 5 of 12). These functions will not be directly callable after loading.\n"
     ]
    },
    {
     "name": "stdout",
     "output_type": "stream",
     "text": [
      "INFO:tensorflow:Assets written to: best_model\\assets\n"
     ]
    },
    {
     "name": "stderr",
     "output_type": "stream",
     "text": [
      "INFO:tensorflow:Assets written to: best_model\\assets\n"
     ]
    },
    {
     "name": "stdout",
     "output_type": "stream",
     "text": [
      "390/390 [==============================] - 20s 50ms/step - loss: 0.7762 - accuracy: 0.7270 - val_loss: 0.5256 - val_accuracy: 0.8221\n",
      "Epoch 19/250\n",
      "389/390 [============================>.] - ETA: 0s - loss: 0.7669 - accuracy: 0.7293\n",
      "Epoch 19: val_accuracy did not improve from 0.82210\n",
      "390/390 [==============================] - 16s 40ms/step - loss: 0.7668 - accuracy: 0.7294 - val_loss: 0.5364 - val_accuracy: 0.8192\n",
      "Epoch 20/250\n",
      "389/390 [============================>.] - ETA: 0s - loss: 0.7518 - accuracy: 0.7348\n",
      "Epoch 20: val_accuracy improved from 0.82210 to 0.82420, saving model to best_model\n"
     ]
    },
    {
     "name": "stderr",
     "output_type": "stream",
     "text": [
      "WARNING:absl:Found untraced functions such as _jit_compiled_convolution_op, _jit_compiled_convolution_op, _jit_compiled_convolution_op, _jit_compiled_convolution_op, _jit_compiled_convolution_op while saving (showing 5 of 12). These functions will not be directly callable after loading.\n"
     ]
    },
    {
     "name": "stdout",
     "output_type": "stream",
     "text": [
      "INFO:tensorflow:Assets written to: best_model\\assets\n"
     ]
    },
    {
     "name": "stderr",
     "output_type": "stream",
     "text": [
      "INFO:tensorflow:Assets written to: best_model\\assets\n"
     ]
    },
    {
     "name": "stdout",
     "output_type": "stream",
     "text": [
      "390/390 [==============================] - 19s 50ms/step - loss: 0.7520 - accuracy: 0.7347 - val_loss: 0.5046 - val_accuracy: 0.8242\n",
      "Epoch 21/250\n",
      "390/390 [==============================] - ETA: 0s - loss: 0.7393 - accuracy: 0.7398\n",
      "Epoch 21: val_accuracy improved from 0.82420 to 0.83940, saving model to best_model\n"
     ]
    },
    {
     "name": "stderr",
     "output_type": "stream",
     "text": [
      "WARNING:absl:Found untraced functions such as _jit_compiled_convolution_op, _jit_compiled_convolution_op, _jit_compiled_convolution_op, _jit_compiled_convolution_op, _jit_compiled_convolution_op while saving (showing 5 of 12). These functions will not be directly callable after loading.\n"
     ]
    },
    {
     "name": "stdout",
     "output_type": "stream",
     "text": [
      "INFO:tensorflow:Assets written to: best_model\\assets\n"
     ]
    },
    {
     "name": "stderr",
     "output_type": "stream",
     "text": [
      "INFO:tensorflow:Assets written to: best_model\\assets\n"
     ]
    },
    {
     "name": "stdout",
     "output_type": "stream",
     "text": [
      "390/390 [==============================] - 19s 50ms/step - loss: 0.7393 - accuracy: 0.7398 - val_loss: 0.4691 - val_accuracy: 0.8394\n",
      "Epoch 22/250\n",
      "389/390 [============================>.] - ETA: 0s - loss: 0.7155 - accuracy: 0.7475\n",
      "Epoch 22: val_accuracy did not improve from 0.83940\n",
      "390/390 [==============================] - 16s 40ms/step - loss: 0.7153 - accuracy: 0.7477 - val_loss: 0.4910 - val_accuracy: 0.8299\n",
      "Epoch 23/250\n",
      "390/390 [==============================] - ETA: 0s - loss: 0.7228 - accuracy: 0.7451\n",
      "Epoch 23: val_accuracy did not improve from 0.83940\n",
      "390/390 [==============================] - 16s 41ms/step - loss: 0.7228 - accuracy: 0.7451 - val_loss: 0.5082 - val_accuracy: 0.8258\n",
      "Epoch 24/250\n",
      "389/390 [============================>.] - ETA: 0s - loss: 0.7143 - accuracy: 0.7460\n",
      "Epoch 24: val_accuracy did not improve from 0.83940\n",
      "390/390 [==============================] - 16s 41ms/step - loss: 0.7143 - accuracy: 0.7461 - val_loss: 0.5464 - val_accuracy: 0.8107\n",
      "Epoch 25/250\n",
      "389/390 [============================>.] - ETA: 0s - loss: 0.6988 - accuracy: 0.7526\n",
      "Epoch 25: val_accuracy did not improve from 0.83940\n",
      "390/390 [==============================] - 16s 40ms/step - loss: 0.6988 - accuracy: 0.7525 - val_loss: 0.5054 - val_accuracy: 0.8249\n",
      "Epoch 26/250\n",
      "390/390 [==============================] - ETA: 0s - loss: 0.6901 - accuracy: 0.7579\n",
      "Epoch 26: val_accuracy improved from 0.83940 to 0.84310, saving model to best_model\n"
     ]
    },
    {
     "name": "stderr",
     "output_type": "stream",
     "text": [
      "WARNING:absl:Found untraced functions such as _jit_compiled_convolution_op, _jit_compiled_convolution_op, _jit_compiled_convolution_op, _jit_compiled_convolution_op, _jit_compiled_convolution_op while saving (showing 5 of 12). These functions will not be directly callable after loading.\n"
     ]
    },
    {
     "name": "stdout",
     "output_type": "stream",
     "text": [
      "INFO:tensorflow:Assets written to: best_model\\assets\n"
     ]
    },
    {
     "name": "stderr",
     "output_type": "stream",
     "text": [
      "INFO:tensorflow:Assets written to: best_model\\assets\n"
     ]
    },
    {
     "name": "stdout",
     "output_type": "stream",
     "text": [
      "390/390 [==============================] - 19s 48ms/step - loss: 0.6901 - accuracy: 0.7579 - val_loss: 0.4665 - val_accuracy: 0.8431\n",
      "Epoch 27/250\n",
      "390/390 [==============================] - ETA: 0s - loss: 0.6806 - accuracy: 0.7589\n",
      "Epoch 27: val_accuracy improved from 0.84310 to 0.84660, saving model to best_model\n"
     ]
    },
    {
     "name": "stderr",
     "output_type": "stream",
     "text": [
      "WARNING:absl:Found untraced functions such as _jit_compiled_convolution_op, _jit_compiled_convolution_op, _jit_compiled_convolution_op, _jit_compiled_convolution_op, _jit_compiled_convolution_op while saving (showing 5 of 12). These functions will not be directly callable after loading.\n"
     ]
    },
    {
     "name": "stdout",
     "output_type": "stream",
     "text": [
      "INFO:tensorflow:Assets written to: best_model\\assets\n"
     ]
    },
    {
     "name": "stderr",
     "output_type": "stream",
     "text": [
      "INFO:tensorflow:Assets written to: best_model\\assets\n"
     ]
    },
    {
     "name": "stdout",
     "output_type": "stream",
     "text": [
      "390/390 [==============================] - 21s 53ms/step - loss: 0.6806 - accuracy: 0.7589 - val_loss: 0.4569 - val_accuracy: 0.8466\n",
      "Epoch 28/250\n",
      "389/390 [============================>.] - ETA: 0s - loss: 0.6741 - accuracy: 0.7638\n",
      "Epoch 28: val_accuracy did not improve from 0.84660\n",
      "390/390 [==============================] - 16s 41ms/step - loss: 0.6738 - accuracy: 0.7639 - val_loss: 0.4654 - val_accuracy: 0.8418\n",
      "Epoch 29/250\n",
      "390/390 [==============================] - ETA: 0s - loss: 0.6710 - accuracy: 0.7621\n",
      "Epoch 29: val_accuracy did not improve from 0.84660\n",
      "390/390 [==============================] - 16s 42ms/step - loss: 0.6710 - accuracy: 0.7621 - val_loss: 0.4862 - val_accuracy: 0.8314\n",
      "Epoch 30/250\n",
      "389/390 [============================>.] - ETA: 0s - loss: 0.6583 - accuracy: 0.7687\n",
      "Epoch 30: val_accuracy did not improve from 0.84660\n",
      "390/390 [==============================] - 15s 39ms/step - loss: 0.6584 - accuracy: 0.7687 - val_loss: 0.4485 - val_accuracy: 0.8434\n",
      "Epoch 31/250\n",
      "389/390 [============================>.] - ETA: 0s - loss: 0.6547 - accuracy: 0.7686\n",
      "Epoch 31: val_accuracy improved from 0.84660 to 0.84860, saving model to best_model\n"
     ]
    },
    {
     "name": "stderr",
     "output_type": "stream",
     "text": [
      "WARNING:absl:Found untraced functions such as _jit_compiled_convolution_op, _jit_compiled_convolution_op, _jit_compiled_convolution_op, _jit_compiled_convolution_op, _jit_compiled_convolution_op while saving (showing 5 of 12). These functions will not be directly callable after loading.\n"
     ]
    },
    {
     "name": "stdout",
     "output_type": "stream",
     "text": [
      "INFO:tensorflow:Assets written to: best_model\\assets\n"
     ]
    },
    {
     "name": "stderr",
     "output_type": "stream",
     "text": [
      "INFO:tensorflow:Assets written to: best_model\\assets\n"
     ]
    },
    {
     "name": "stdout",
     "output_type": "stream",
     "text": [
      "390/390 [==============================] - 19s 49ms/step - loss: 0.6544 - accuracy: 0.7687 - val_loss: 0.4342 - val_accuracy: 0.8486\n",
      "Epoch 32/250\n",
      "390/390 [==============================] - ETA: 0s - loss: 0.6481 - accuracy: 0.7733\n",
      "Epoch 32: val_accuracy improved from 0.84860 to 0.85200, saving model to best_model\n"
     ]
    },
    {
     "name": "stderr",
     "output_type": "stream",
     "text": [
      "WARNING:absl:Found untraced functions such as _jit_compiled_convolution_op, _jit_compiled_convolution_op, _jit_compiled_convolution_op, _jit_compiled_convolution_op, _jit_compiled_convolution_op while saving (showing 5 of 12). These functions will not be directly callable after loading.\n"
     ]
    },
    {
     "name": "stdout",
     "output_type": "stream",
     "text": [
      "INFO:tensorflow:Assets written to: best_model\\assets\n"
     ]
    },
    {
     "name": "stderr",
     "output_type": "stream",
     "text": [
      "INFO:tensorflow:Assets written to: best_model\\assets\n"
     ]
    },
    {
     "name": "stdout",
     "output_type": "stream",
     "text": [
      "390/390 [==============================] - 20s 50ms/step - loss: 0.6481 - accuracy: 0.7733 - val_loss: 0.4329 - val_accuracy: 0.8520\n",
      "Epoch 33/250\n",
      "390/390 [==============================] - ETA: 0s - loss: 0.6409 - accuracy: 0.7736\n",
      "Epoch 33: val_accuracy improved from 0.85200 to 0.85640, saving model to best_model\n"
     ]
    },
    {
     "name": "stderr",
     "output_type": "stream",
     "text": [
      "WARNING:absl:Found untraced functions such as _jit_compiled_convolution_op, _jit_compiled_convolution_op, _jit_compiled_convolution_op, _jit_compiled_convolution_op, _jit_compiled_convolution_op while saving (showing 5 of 12). These functions will not be directly callable after loading.\n"
     ]
    },
    {
     "name": "stdout",
     "output_type": "stream",
     "text": [
      "INFO:tensorflow:Assets written to: best_model\\assets\n"
     ]
    },
    {
     "name": "stderr",
     "output_type": "stream",
     "text": [
      "INFO:tensorflow:Assets written to: best_model\\assets\n"
     ]
    },
    {
     "name": "stdout",
     "output_type": "stream",
     "text": [
      "390/390 [==============================] - 20s 51ms/step - loss: 0.6409 - accuracy: 0.7736 - val_loss: 0.4197 - val_accuracy: 0.8564\n",
      "Epoch 34/250\n",
      "390/390 [==============================] - ETA: 0s - loss: 0.6310 - accuracy: 0.7780\n",
      "Epoch 34: val_accuracy improved from 0.85640 to 0.85830, saving model to best_model\n"
     ]
    },
    {
     "name": "stderr",
     "output_type": "stream",
     "text": [
      "WARNING:absl:Found untraced functions such as _jit_compiled_convolution_op, _jit_compiled_convolution_op, _jit_compiled_convolution_op, _jit_compiled_convolution_op, _jit_compiled_convolution_op while saving (showing 5 of 12). These functions will not be directly callable after loading.\n"
     ]
    },
    {
     "name": "stdout",
     "output_type": "stream",
     "text": [
      "INFO:tensorflow:Assets written to: best_model\\assets\n"
     ]
    },
    {
     "name": "stderr",
     "output_type": "stream",
     "text": [
      "INFO:tensorflow:Assets written to: best_model\\assets\n"
     ]
    },
    {
     "name": "stdout",
     "output_type": "stream",
     "text": [
      "390/390 [==============================] - 22s 56ms/step - loss: 0.6310 - accuracy: 0.7780 - val_loss: 0.4034 - val_accuracy: 0.8583\n",
      "Epoch 35/250\n",
      "390/390 [==============================] - ETA: 0s - loss: 0.6324 - accuracy: 0.7769\n",
      "Epoch 35: val_accuracy improved from 0.85830 to 0.86010, saving model to best_model\n"
     ]
    },
    {
     "name": "stderr",
     "output_type": "stream",
     "text": [
      "WARNING:absl:Found untraced functions such as _jit_compiled_convolution_op, _jit_compiled_convolution_op, _jit_compiled_convolution_op, _jit_compiled_convolution_op, _jit_compiled_convolution_op while saving (showing 5 of 12). These functions will not be directly callable after loading.\n"
     ]
    },
    {
     "name": "stdout",
     "output_type": "stream",
     "text": [
      "INFO:tensorflow:Assets written to: best_model\\assets\n"
     ]
    },
    {
     "name": "stderr",
     "output_type": "stream",
     "text": [
      "INFO:tensorflow:Assets written to: best_model\\assets\n"
     ]
    },
    {
     "name": "stdout",
     "output_type": "stream",
     "text": [
      "390/390 [==============================] - 20s 52ms/step - loss: 0.6324 - accuracy: 0.7769 - val_loss: 0.4181 - val_accuracy: 0.8601\n",
      "Epoch 36/250\n",
      "390/390 [==============================] - ETA: 0s - loss: 0.6206 - accuracy: 0.7827\n",
      "Epoch 36: val_accuracy did not improve from 0.86010\n",
      "390/390 [==============================] - 17s 44ms/step - loss: 0.6206 - accuracy: 0.7827 - val_loss: 0.4389 - val_accuracy: 0.8502\n",
      "Epoch 37/250\n",
      "389/390 [============================>.] - ETA: 0s - loss: 0.6217 - accuracy: 0.7823\n",
      "Epoch 37: val_accuracy did not improve from 0.86010\n",
      "390/390 [==============================] - 17s 44ms/step - loss: 0.6211 - accuracy: 0.7824 - val_loss: 0.4167 - val_accuracy: 0.8567\n",
      "Epoch 38/250\n",
      "390/390 [==============================] - ETA: 0s - loss: 0.6137 - accuracy: 0.7839\n",
      "Epoch 38: val_accuracy improved from 0.86010 to 0.86560, saving model to best_model\n"
     ]
    },
    {
     "name": "stderr",
     "output_type": "stream",
     "text": [
      "WARNING:absl:Found untraced functions such as _jit_compiled_convolution_op, _jit_compiled_convolution_op, _jit_compiled_convolution_op, _jit_compiled_convolution_op, _jit_compiled_convolution_op while saving (showing 5 of 12). These functions will not be directly callable after loading.\n"
     ]
    },
    {
     "name": "stdout",
     "output_type": "stream",
     "text": [
      "INFO:tensorflow:Assets written to: best_model\\assets\n"
     ]
    },
    {
     "name": "stderr",
     "output_type": "stream",
     "text": [
      "INFO:tensorflow:Assets written to: best_model\\assets\n"
     ]
    },
    {
     "name": "stdout",
     "output_type": "stream",
     "text": [
      "390/390 [==============================] - 21s 53ms/step - loss: 0.6137 - accuracy: 0.7839 - val_loss: 0.3966 - val_accuracy: 0.8656\n",
      "Epoch 39/250\n",
      "390/390 [==============================] - ETA: 0s - loss: 0.6054 - accuracy: 0.7861\n",
      "Epoch 39: val_accuracy did not improve from 0.86560\n",
      "390/390 [==============================] - 18s 45ms/step - loss: 0.6054 - accuracy: 0.7861 - val_loss: 0.4182 - val_accuracy: 0.8593\n",
      "Epoch 40/250\n",
      "389/390 [============================>.] - ETA: 0s - loss: 0.6038 - accuracy: 0.7869\n",
      "Epoch 40: val_accuracy did not improve from 0.86560\n",
      "390/390 [==============================] - 16s 42ms/step - loss: 0.6041 - accuracy: 0.7867 - val_loss: 0.4098 - val_accuracy: 0.8612\n",
      "Epoch 41/250\n",
      "390/390 [==============================] - ETA: 0s - loss: 0.5911 - accuracy: 0.7908\n",
      "Epoch 41: val_accuracy did not improve from 0.86560\n",
      "390/390 [==============================] - 17s 43ms/step - loss: 0.5911 - accuracy: 0.7908 - val_loss: 0.4095 - val_accuracy: 0.8615\n",
      "Epoch 42/250\n",
      "390/390 [==============================] - ETA: 0s - loss: 0.5881 - accuracy: 0.7921\n",
      "Epoch 42: val_accuracy improved from 0.86560 to 0.86930, saving model to best_model\n"
     ]
    },
    {
     "name": "stderr",
     "output_type": "stream",
     "text": [
      "WARNING:absl:Found untraced functions such as _jit_compiled_convolution_op, _jit_compiled_convolution_op, _jit_compiled_convolution_op, _jit_compiled_convolution_op, _jit_compiled_convolution_op while saving (showing 5 of 12). These functions will not be directly callable after loading.\n"
     ]
    },
    {
     "name": "stdout",
     "output_type": "stream",
     "text": [
      "INFO:tensorflow:Assets written to: best_model\\assets\n"
     ]
    },
    {
     "name": "stderr",
     "output_type": "stream",
     "text": [
      "INFO:tensorflow:Assets written to: best_model\\assets\n"
     ]
    },
    {
     "name": "stdout",
     "output_type": "stream",
     "text": [
      "390/390 [==============================] - 20s 50ms/step - loss: 0.5881 - accuracy: 0.7921 - val_loss: 0.3862 - val_accuracy: 0.8693\n",
      "Epoch 43/250\n",
      "390/390 [==============================] - ETA: 0s - loss: 0.5923 - accuracy: 0.7919\n",
      "Epoch 43: val_accuracy did not improve from 0.86930\n",
      "390/390 [==============================] - 19s 48ms/step - loss: 0.5923 - accuracy: 0.7919 - val_loss: 0.3791 - val_accuracy: 0.8673\n",
      "Epoch 44/250\n",
      "389/390 [============================>.] - ETA: 0s - loss: 0.5858 - accuracy: 0.7924\n",
      "Epoch 44: val_accuracy did not improve from 0.86930\n",
      "390/390 [==============================] - 18s 46ms/step - loss: 0.5862 - accuracy: 0.7922 - val_loss: 0.4085 - val_accuracy: 0.8615\n",
      "Epoch 45/250\n",
      "389/390 [============================>.] - ETA: 0s - loss: 0.5823 - accuracy: 0.7948\n",
      "Epoch 45: val_accuracy improved from 0.86930 to 0.87280, saving model to best_model\n"
     ]
    },
    {
     "name": "stderr",
     "output_type": "stream",
     "text": [
      "WARNING:absl:Found untraced functions such as _jit_compiled_convolution_op, _jit_compiled_convolution_op, _jit_compiled_convolution_op, _jit_compiled_convolution_op, _jit_compiled_convolution_op while saving (showing 5 of 12). These functions will not be directly callable after loading.\n"
     ]
    },
    {
     "name": "stdout",
     "output_type": "stream",
     "text": [
      "INFO:tensorflow:Assets written to: best_model\\assets\n"
     ]
    },
    {
     "name": "stderr",
     "output_type": "stream",
     "text": [
      "INFO:tensorflow:Assets written to: best_model\\assets\n"
     ]
    },
    {
     "name": "stdout",
     "output_type": "stream",
     "text": [
      "390/390 [==============================] - 21s 53ms/step - loss: 0.5823 - accuracy: 0.7946 - val_loss: 0.3759 - val_accuracy: 0.8728\n",
      "Epoch 46/250\n",
      "390/390 [==============================] - ETA: 0s - loss: 0.5793 - accuracy: 0.7967\n",
      "Epoch 46: val_accuracy did not improve from 0.87280\n",
      "390/390 [==============================] - 17s 42ms/step - loss: 0.5793 - accuracy: 0.7967 - val_loss: 0.3902 - val_accuracy: 0.8652\n",
      "Epoch 47/250\n",
      "389/390 [============================>.] - ETA: 0s - loss: 0.5781 - accuracy: 0.7962\n",
      "Epoch 47: val_accuracy did not improve from 0.87280\n",
      "390/390 [==============================] - 16s 41ms/step - loss: 0.5781 - accuracy: 0.7961 - val_loss: 0.3974 - val_accuracy: 0.8693\n",
      "Epoch 48/250\n",
      "389/390 [============================>.] - ETA: 0s - loss: 0.5692 - accuracy: 0.7987\n",
      "Epoch 48: val_accuracy did not improve from 0.87280\n",
      "390/390 [==============================] - 16s 42ms/step - loss: 0.5693 - accuracy: 0.7986 - val_loss: 0.3749 - val_accuracy: 0.8726\n",
      "Epoch 49/250\n",
      "390/390 [==============================] - ETA: 0s - loss: 0.5700 - accuracy: 0.7977\n",
      "Epoch 49: val_accuracy did not improve from 0.87280\n",
      "390/390 [==============================] - 21s 53ms/step - loss: 0.5700 - accuracy: 0.7977 - val_loss: 0.3886 - val_accuracy: 0.8682\n",
      "Epoch 50/250\n",
      "390/390 [==============================] - ETA: 0s - loss: 0.5621 - accuracy: 0.8029\n",
      "Epoch 50: val_accuracy did not improve from 0.87280\n",
      "390/390 [==============================] - 20s 52ms/step - loss: 0.5621 - accuracy: 0.8029 - val_loss: 0.3799 - val_accuracy: 0.8711\n",
      "Epoch 51/250\n",
      "389/390 [============================>.] - ETA: 0s - loss: 0.5580 - accuracy: 0.8009\n",
      "Epoch 51: val_accuracy improved from 0.87280 to 0.87480, saving model to best_model\n"
     ]
    },
    {
     "name": "stderr",
     "output_type": "stream",
     "text": [
      "WARNING:absl:Found untraced functions such as _jit_compiled_convolution_op, _jit_compiled_convolution_op, _jit_compiled_convolution_op, _jit_compiled_convolution_op, _jit_compiled_convolution_op while saving (showing 5 of 12). These functions will not be directly callable after loading.\n"
     ]
    },
    {
     "name": "stdout",
     "output_type": "stream",
     "text": [
      "INFO:tensorflow:Assets written to: best_model\\assets\n"
     ]
    },
    {
     "name": "stderr",
     "output_type": "stream",
     "text": [
      "INFO:tensorflow:Assets written to: best_model\\assets\n"
     ]
    },
    {
     "name": "stdout",
     "output_type": "stream",
     "text": [
      "390/390 [==============================] - 21s 54ms/step - loss: 0.5580 - accuracy: 0.8009 - val_loss: 0.3662 - val_accuracy: 0.8748\n",
      "Epoch 52/250\n",
      "390/390 [==============================] - ETA: 0s - loss: 0.5569 - accuracy: 0.8033\n",
      "Epoch 52: val_accuracy did not improve from 0.87480\n",
      "390/390 [==============================] - 18s 45ms/step - loss: 0.5569 - accuracy: 0.8033 - val_loss: 0.3852 - val_accuracy: 0.8684\n",
      "Epoch 53/250\n",
      "389/390 [============================>.] - ETA: 0s - loss: 0.5526 - accuracy: 0.8046\n",
      "Epoch 53: val_accuracy improved from 0.87480 to 0.87540, saving model to best_model\n"
     ]
    },
    {
     "name": "stderr",
     "output_type": "stream",
     "text": [
      "WARNING:absl:Found untraced functions such as _jit_compiled_convolution_op, _jit_compiled_convolution_op, _jit_compiled_convolution_op, _jit_compiled_convolution_op, _jit_compiled_convolution_op while saving (showing 5 of 12). These functions will not be directly callable after loading.\n"
     ]
    },
    {
     "name": "stdout",
     "output_type": "stream",
     "text": [
      "INFO:tensorflow:Assets written to: best_model\\assets\n"
     ]
    },
    {
     "name": "stderr",
     "output_type": "stream",
     "text": [
      "INFO:tensorflow:Assets written to: best_model\\assets\n"
     ]
    },
    {
     "name": "stdout",
     "output_type": "stream",
     "text": [
      "390/390 [==============================] - 21s 53ms/step - loss: 0.5526 - accuracy: 0.8046 - val_loss: 0.3736 - val_accuracy: 0.8754\n",
      "Epoch 54/250\n",
      "390/390 [==============================] - ETA: 0s - loss: 0.5476 - accuracy: 0.8059\n",
      "Epoch 54: val_accuracy did not improve from 0.87540\n",
      "390/390 [==============================] - 18s 46ms/step - loss: 0.5476 - accuracy: 0.8059 - val_loss: 0.3665 - val_accuracy: 0.8752\n",
      "Epoch 55/250\n",
      "390/390 [==============================] - ETA: 0s - loss: 0.5501 - accuracy: 0.8070\n",
      "Epoch 55: val_accuracy improved from 0.87540 to 0.87570, saving model to best_model\n"
     ]
    },
    {
     "name": "stderr",
     "output_type": "stream",
     "text": [
      "WARNING:absl:Found untraced functions such as _jit_compiled_convolution_op, _jit_compiled_convolution_op, _jit_compiled_convolution_op, _jit_compiled_convolution_op, _jit_compiled_convolution_op while saving (showing 5 of 12). These functions will not be directly callable after loading.\n"
     ]
    },
    {
     "name": "stdout",
     "output_type": "stream",
     "text": [
      "INFO:tensorflow:Assets written to: best_model\\assets\n"
     ]
    },
    {
     "name": "stderr",
     "output_type": "stream",
     "text": [
      "INFO:tensorflow:Assets written to: best_model\\assets\n"
     ]
    },
    {
     "name": "stdout",
     "output_type": "stream",
     "text": [
      "390/390 [==============================] - 22s 56ms/step - loss: 0.5501 - accuracy: 0.8070 - val_loss: 0.3747 - val_accuracy: 0.8757\n",
      "Epoch 56/250\n",
      "390/390 [==============================] - ETA: 0s - loss: 0.5408 - accuracy: 0.8092\n",
      "Epoch 56: val_accuracy improved from 0.87570 to 0.87980, saving model to best_model\n"
     ]
    },
    {
     "name": "stderr",
     "output_type": "stream",
     "text": [
      "WARNING:absl:Found untraced functions such as _jit_compiled_convolution_op, _jit_compiled_convolution_op, _jit_compiled_convolution_op, _jit_compiled_convolution_op, _jit_compiled_convolution_op while saving (showing 5 of 12). These functions will not be directly callable after loading.\n"
     ]
    },
    {
     "name": "stdout",
     "output_type": "stream",
     "text": [
      "INFO:tensorflow:Assets written to: best_model\\assets\n"
     ]
    },
    {
     "name": "stderr",
     "output_type": "stream",
     "text": [
      "INFO:tensorflow:Assets written to: best_model\\assets\n"
     ]
    },
    {
     "name": "stdout",
     "output_type": "stream",
     "text": [
      "390/390 [==============================] - 21s 54ms/step - loss: 0.5408 - accuracy: 0.8092 - val_loss: 0.3555 - val_accuracy: 0.8798\n",
      "Epoch 57/250\n",
      "389/390 [============================>.] - ETA: 0s - loss: 0.5351 - accuracy: 0.8121\n",
      "Epoch 57: val_accuracy improved from 0.87980 to 0.88140, saving model to best_model\n"
     ]
    },
    {
     "name": "stderr",
     "output_type": "stream",
     "text": [
      "WARNING:absl:Found untraced functions such as _jit_compiled_convolution_op, _jit_compiled_convolution_op, _jit_compiled_convolution_op, _jit_compiled_convolution_op, _jit_compiled_convolution_op while saving (showing 5 of 12). These functions will not be directly callable after loading.\n"
     ]
    },
    {
     "name": "stdout",
     "output_type": "stream",
     "text": [
      "INFO:tensorflow:Assets written to: best_model\\assets\n"
     ]
    },
    {
     "name": "stderr",
     "output_type": "stream",
     "text": [
      "INFO:tensorflow:Assets written to: best_model\\assets\n"
     ]
    },
    {
     "name": "stdout",
     "output_type": "stream",
     "text": [
      "390/390 [==============================] - 20s 52ms/step - loss: 0.5350 - accuracy: 0.8121 - val_loss: 0.3529 - val_accuracy: 0.8814\n",
      "Epoch 58/250\n",
      "390/390 [==============================] - ETA: 0s - loss: 0.5430 - accuracy: 0.8091\n",
      "Epoch 58: val_accuracy did not improve from 0.88140\n",
      "390/390 [==============================] - 17s 44ms/step - loss: 0.5430 - accuracy: 0.8091 - val_loss: 0.3687 - val_accuracy: 0.8744\n",
      "Epoch 59/250\n",
      "390/390 [==============================] - ETA: 0s - loss: 0.5286 - accuracy: 0.8140\n",
      "Epoch 59: val_accuracy did not improve from 0.88140\n",
      "390/390 [==============================] - 18s 47ms/step - loss: 0.5286 - accuracy: 0.8140 - val_loss: 0.3500 - val_accuracy: 0.8811\n",
      "Epoch 60/250\n",
      "390/390 [==============================] - ETA: 0s - loss: 0.5334 - accuracy: 0.8107\n",
      "Epoch 60: val_accuracy did not improve from 0.88140\n",
      "390/390 [==============================] - 18s 46ms/step - loss: 0.5334 - accuracy: 0.8107 - val_loss: 0.3635 - val_accuracy: 0.8780\n",
      "Epoch 61/250\n",
      "390/390 [==============================] - ETA: 0s - loss: 0.5304 - accuracy: 0.8134\n",
      "Epoch 61: val_accuracy did not improve from 0.88140\n",
      "390/390 [==============================] - 18s 46ms/step - loss: 0.5304 - accuracy: 0.8134 - val_loss: 0.3506 - val_accuracy: 0.8791\n",
      "Epoch 62/250\n",
      "389/390 [============================>.] - ETA: 0s - loss: 0.5242 - accuracy: 0.8156\n",
      "Epoch 62: val_accuracy improved from 0.88140 to 0.88510, saving model to best_model\n"
     ]
    },
    {
     "name": "stderr",
     "output_type": "stream",
     "text": [
      "WARNING:absl:Found untraced functions such as _jit_compiled_convolution_op, _jit_compiled_convolution_op, _jit_compiled_convolution_op, _jit_compiled_convolution_op, _jit_compiled_convolution_op while saving (showing 5 of 12). These functions will not be directly callable after loading.\n"
     ]
    },
    {
     "name": "stdout",
     "output_type": "stream",
     "text": [
      "INFO:tensorflow:Assets written to: best_model\\assets\n"
     ]
    },
    {
     "name": "stderr",
     "output_type": "stream",
     "text": [
      "INFO:tensorflow:Assets written to: best_model\\assets\n"
     ]
    },
    {
     "name": "stdout",
     "output_type": "stream",
     "text": [
      "390/390 [==============================] - 21s 55ms/step - loss: 0.5241 - accuracy: 0.8157 - val_loss: 0.3491 - val_accuracy: 0.8851\n",
      "Epoch 63/250\n",
      "390/390 [==============================] - ETA: 0s - loss: 0.5249 - accuracy: 0.8156\n",
      "Epoch 63: val_accuracy did not improve from 0.88510\n",
      "390/390 [==============================] - 18s 46ms/step - loss: 0.5249 - accuracy: 0.8156 - val_loss: 0.3551 - val_accuracy: 0.8803\n",
      "Epoch 64/250\n",
      "390/390 [==============================] - ETA: 0s - loss: 0.5181 - accuracy: 0.8162\n",
      "Epoch 64: val_accuracy did not improve from 0.88510\n",
      "390/390 [==============================] - 16s 42ms/step - loss: 0.5181 - accuracy: 0.8162 - val_loss: 0.3588 - val_accuracy: 0.8826\n",
      "Epoch 65/250\n",
      "390/390 [==============================] - ETA: 0s - loss: 0.5185 - accuracy: 0.8172\n",
      "Epoch 65: val_accuracy improved from 0.88510 to 0.88580, saving model to best_model\n"
     ]
    },
    {
     "name": "stderr",
     "output_type": "stream",
     "text": [
      "WARNING:absl:Found untraced functions such as _jit_compiled_convolution_op, _jit_compiled_convolution_op, _jit_compiled_convolution_op, _jit_compiled_convolution_op, _jit_compiled_convolution_op while saving (showing 5 of 12). These functions will not be directly callable after loading.\n"
     ]
    },
    {
     "name": "stdout",
     "output_type": "stream",
     "text": [
      "INFO:tensorflow:Assets written to: best_model\\assets\n"
     ]
    },
    {
     "name": "stderr",
     "output_type": "stream",
     "text": [
      "INFO:tensorflow:Assets written to: best_model\\assets\n"
     ]
    },
    {
     "name": "stdout",
     "output_type": "stream",
     "text": [
      "390/390 [==============================] - 19s 48ms/step - loss: 0.5185 - accuracy: 0.8172 - val_loss: 0.3429 - val_accuracy: 0.8858\n",
      "Epoch 66/250\n",
      "390/390 [==============================] - ETA: 0s - loss: 0.5123 - accuracy: 0.8187\n",
      "Epoch 66: val_accuracy did not improve from 0.88580\n",
      "390/390 [==============================] - 15s 39ms/step - loss: 0.5123 - accuracy: 0.8187 - val_loss: 0.3506 - val_accuracy: 0.8854\n",
      "Epoch 67/250\n",
      "390/390 [==============================] - ETA: 0s - loss: 0.5115 - accuracy: 0.8200\n",
      "Epoch 67: val_accuracy did not improve from 0.88580\n",
      "390/390 [==============================] - 15s 39ms/step - loss: 0.5115 - accuracy: 0.8200 - val_loss: 0.3712 - val_accuracy: 0.8765\n",
      "Epoch 68/250\n",
      "390/390 [==============================] - ETA: 0s - loss: 0.5158 - accuracy: 0.8182\n",
      "Epoch 68: val_accuracy did not improve from 0.88580\n",
      "390/390 [==============================] - 15s 39ms/step - loss: 0.5158 - accuracy: 0.8182 - val_loss: 0.3377 - val_accuracy: 0.8857\n",
      "Epoch 69/250\n",
      "389/390 [============================>.] - ETA: 0s - loss: 0.5104 - accuracy: 0.8200\n",
      "Epoch 69: val_accuracy did not improve from 0.88580\n",
      "390/390 [==============================] - 15s 39ms/step - loss: 0.5100 - accuracy: 0.8202 - val_loss: 0.3510 - val_accuracy: 0.8812\n",
      "Epoch 70/250\n",
      "390/390 [==============================] - ETA: 0s - loss: 0.5028 - accuracy: 0.8244\n",
      "Epoch 70: val_accuracy improved from 0.88580 to 0.88610, saving model to best_model\n"
     ]
    },
    {
     "name": "stderr",
     "output_type": "stream",
     "text": [
      "WARNING:absl:Found untraced functions such as _jit_compiled_convolution_op, _jit_compiled_convolution_op, _jit_compiled_convolution_op, _jit_compiled_convolution_op, _jit_compiled_convolution_op while saving (showing 5 of 12). These functions will not be directly callable after loading.\n"
     ]
    },
    {
     "name": "stdout",
     "output_type": "stream",
     "text": [
      "INFO:tensorflow:Assets written to: best_model\\assets\n"
     ]
    },
    {
     "name": "stderr",
     "output_type": "stream",
     "text": [
      "INFO:tensorflow:Assets written to: best_model\\assets\n"
     ]
    },
    {
     "name": "stdout",
     "output_type": "stream",
     "text": [
      "390/390 [==============================] - 18s 46ms/step - loss: 0.5028 - accuracy: 0.8244 - val_loss: 0.3460 - val_accuracy: 0.8861\n",
      "Epoch 71/250\n",
      "389/390 [============================>.] - ETA: 0s - loss: 0.5025 - accuracy: 0.8253\n",
      "Epoch 71: val_accuracy improved from 0.88610 to 0.88720, saving model to best_model\n"
     ]
    },
    {
     "name": "stderr",
     "output_type": "stream",
     "text": [
      "WARNING:absl:Found untraced functions such as _jit_compiled_convolution_op, _jit_compiled_convolution_op, _jit_compiled_convolution_op, _jit_compiled_convolution_op, _jit_compiled_convolution_op while saving (showing 5 of 12). These functions will not be directly callable after loading.\n"
     ]
    },
    {
     "name": "stdout",
     "output_type": "stream",
     "text": [
      "INFO:tensorflow:Assets written to: best_model\\assets\n"
     ]
    },
    {
     "name": "stderr",
     "output_type": "stream",
     "text": [
      "INFO:tensorflow:Assets written to: best_model\\assets\n"
     ]
    },
    {
     "name": "stdout",
     "output_type": "stream",
     "text": [
      "390/390 [==============================] - 18s 46ms/step - loss: 0.5024 - accuracy: 0.8253 - val_loss: 0.3491 - val_accuracy: 0.8872\n",
      "Epoch 72/250\n",
      "389/390 [============================>.] - ETA: 0s - loss: 0.5007 - accuracy: 0.8231\n",
      "Epoch 72: val_accuracy did not improve from 0.88720\n",
      "390/390 [==============================] - 15s 39ms/step - loss: 0.5004 - accuracy: 0.8231 - val_loss: 0.3685 - val_accuracy: 0.8806\n",
      "Epoch 73/250\n",
      "390/390 [==============================] - ETA: 0s - loss: 0.4982 - accuracy: 0.8248\n",
      "Epoch 73: val_accuracy improved from 0.88720 to 0.89100, saving model to best_model\n"
     ]
    },
    {
     "name": "stderr",
     "output_type": "stream",
     "text": [
      "WARNING:absl:Found untraced functions such as _jit_compiled_convolution_op, _jit_compiled_convolution_op, _jit_compiled_convolution_op, _jit_compiled_convolution_op, _jit_compiled_convolution_op while saving (showing 5 of 12). These functions will not be directly callable after loading.\n"
     ]
    },
    {
     "name": "stdout",
     "output_type": "stream",
     "text": [
      "INFO:tensorflow:Assets written to: best_model\\assets\n"
     ]
    },
    {
     "name": "stderr",
     "output_type": "stream",
     "text": [
      "INFO:tensorflow:Assets written to: best_model\\assets\n"
     ]
    },
    {
     "name": "stdout",
     "output_type": "stream",
     "text": [
      "390/390 [==============================] - 18s 47ms/step - loss: 0.4982 - accuracy: 0.8248 - val_loss: 0.3396 - val_accuracy: 0.8910\n",
      "Epoch 74/250\n",
      "390/390 [==============================] - ETA: 0s - loss: 0.4969 - accuracy: 0.8253\n",
      "Epoch 74: val_accuracy did not improve from 0.89100\n",
      "390/390 [==============================] - 16s 40ms/step - loss: 0.4969 - accuracy: 0.8253 - val_loss: 0.3553 - val_accuracy: 0.8822\n",
      "Epoch 75/250\n",
      "389/390 [============================>.] - ETA: 0s - loss: 0.4944 - accuracy: 0.8255\n",
      "Epoch 75: val_accuracy did not improve from 0.89100\n",
      "390/390 [==============================] - 15s 39ms/step - loss: 0.4942 - accuracy: 0.8257 - val_loss: 0.3461 - val_accuracy: 0.8867\n",
      "Epoch 76/250\n",
      "389/390 [============================>.] - ETA: 0s - loss: 0.4961 - accuracy: 0.8244\n",
      "Epoch 76: val_accuracy did not improve from 0.89100\n",
      "390/390 [==============================] - 16s 40ms/step - loss: 0.4962 - accuracy: 0.8244 - val_loss: 0.3383 - val_accuracy: 0.8859\n",
      "Epoch 77/250\n",
      "390/390 [==============================] - ETA: 0s - loss: 0.4899 - accuracy: 0.8275\n",
      "Epoch 77: val_accuracy did not improve from 0.89100\n",
      "390/390 [==============================] - 16s 40ms/step - loss: 0.4899 - accuracy: 0.8275 - val_loss: 0.3543 - val_accuracy: 0.8857\n",
      "Epoch 78/250\n",
      "389/390 [============================>.] - ETA: 0s - loss: 0.4911 - accuracy: 0.8254\n",
      "Epoch 78: val_accuracy did not improve from 0.89100\n",
      "390/390 [==============================] - 15s 40ms/step - loss: 0.4910 - accuracy: 0.8254 - val_loss: 0.3495 - val_accuracy: 0.8874\n",
      "Epoch 79/250\n",
      "389/390 [============================>.] - ETA: 0s - loss: 0.4912 - accuracy: 0.8287\n",
      "Epoch 79: val_accuracy did not improve from 0.89100\n",
      "390/390 [==============================] - 15s 39ms/step - loss: 0.4912 - accuracy: 0.8287 - val_loss: 0.3445 - val_accuracy: 0.8841\n",
      "Epoch 80/250\n",
      "389/390 [============================>.] - ETA: 0s - loss: 0.4871 - accuracy: 0.8277\n",
      "Epoch 80: val_accuracy did not improve from 0.89100\n",
      "390/390 [==============================] - 15s 39ms/step - loss: 0.4870 - accuracy: 0.8277 - val_loss: 0.3431 - val_accuracy: 0.8878\n",
      "Epoch 81/250\n",
      "390/390 [==============================] - ETA: 0s - loss: 0.4863 - accuracy: 0.8276\n",
      "Epoch 81: val_accuracy did not improve from 0.89100\n",
      "390/390 [==============================] - 15s 38ms/step - loss: 0.4863 - accuracy: 0.8276 - val_loss: 0.3452 - val_accuracy: 0.8851\n",
      "Epoch 82/250\n",
      "390/390 [==============================] - ETA: 0s - loss: 0.4836 - accuracy: 0.8296\n",
      "Epoch 82: val_accuracy did not improve from 0.89100\n",
      "390/390 [==============================] - 15s 38ms/step - loss: 0.4836 - accuracy: 0.8296 - val_loss: 0.3477 - val_accuracy: 0.8842\n",
      "Epoch 83/250\n",
      "389/390 [============================>.] - ETA: 0s - loss: 0.4771 - accuracy: 0.8324\n",
      "Epoch 83: val_accuracy did not improve from 0.89100\n",
      "390/390 [==============================] - 17s 43ms/step - loss: 0.4771 - accuracy: 0.8324 - val_loss: 0.3418 - val_accuracy: 0.8867\n",
      "Epoch 84/250\n",
      "389/390 [============================>.] - ETA: 0s - loss: 0.4848 - accuracy: 0.8312\n",
      "Epoch 84: val_accuracy did not improve from 0.89100\n",
      "390/390 [==============================] - 15s 39ms/step - loss: 0.4847 - accuracy: 0.8312 - val_loss: 0.3369 - val_accuracy: 0.8896\n",
      "Epoch 85/250\n",
      "389/390 [============================>.] - ETA: 0s - loss: 0.4723 - accuracy: 0.8343\n",
      "Epoch 85: val_accuracy improved from 0.89100 to 0.89220, saving model to best_model\n"
     ]
    },
    {
     "name": "stderr",
     "output_type": "stream",
     "text": [
      "WARNING:absl:Found untraced functions such as _jit_compiled_convolution_op, _jit_compiled_convolution_op, _jit_compiled_convolution_op, _jit_compiled_convolution_op, _jit_compiled_convolution_op while saving (showing 5 of 12). These functions will not be directly callable after loading.\n"
     ]
    },
    {
     "name": "stdout",
     "output_type": "stream",
     "text": [
      "INFO:tensorflow:Assets written to: best_model\\assets\n"
     ]
    },
    {
     "name": "stderr",
     "output_type": "stream",
     "text": [
      "INFO:tensorflow:Assets written to: best_model\\assets\n"
     ]
    },
    {
     "name": "stdout",
     "output_type": "stream",
     "text": [
      "390/390 [==============================] - 17s 44ms/step - loss: 0.4721 - accuracy: 0.8344 - val_loss: 0.3407 - val_accuracy: 0.8922\n",
      "Epoch 86/250\n",
      "389/390 [============================>.] - ETA: 0s - loss: 0.4749 - accuracy: 0.8325\n",
      "Epoch 86: val_accuracy did not improve from 0.89220\n",
      "390/390 [==============================] - 15s 39ms/step - loss: 0.4750 - accuracy: 0.8325 - val_loss: 0.3488 - val_accuracy: 0.8837\n",
      "Epoch 87/250\n",
      "390/390 [==============================] - ETA: 0s - loss: 0.4712 - accuracy: 0.8329\n",
      "Epoch 87: val_accuracy did not improve from 0.89220\n",
      "390/390 [==============================] - 15s 38ms/step - loss: 0.4712 - accuracy: 0.8329 - val_loss: 0.3366 - val_accuracy: 0.8899\n",
      "Epoch 88/250\n",
      "390/390 [==============================] - ETA: 0s - loss: 0.4755 - accuracy: 0.8322\n",
      "Epoch 88: val_accuracy improved from 0.89220 to 0.89320, saving model to best_model\n"
     ]
    },
    {
     "name": "stderr",
     "output_type": "stream",
     "text": [
      "WARNING:absl:Found untraced functions such as _jit_compiled_convolution_op, _jit_compiled_convolution_op, _jit_compiled_convolution_op, _jit_compiled_convolution_op, _jit_compiled_convolution_op while saving (showing 5 of 12). These functions will not be directly callable after loading.\n"
     ]
    },
    {
     "name": "stdout",
     "output_type": "stream",
     "text": [
      "INFO:tensorflow:Assets written to: best_model\\assets\n"
     ]
    },
    {
     "name": "stderr",
     "output_type": "stream",
     "text": [
      "INFO:tensorflow:Assets written to: best_model\\assets\n"
     ]
    },
    {
     "name": "stdout",
     "output_type": "stream",
     "text": [
      "390/390 [==============================] - 18s 46ms/step - loss: 0.4755 - accuracy: 0.8322 - val_loss: 0.3338 - val_accuracy: 0.8932\n",
      "Epoch 89/250\n",
      "389/390 [============================>.] - ETA: 0s - loss: 0.4678 - accuracy: 0.8353\n",
      "Epoch 89: val_accuracy did not improve from 0.89320\n",
      "390/390 [==============================] - 17s 43ms/step - loss: 0.4680 - accuracy: 0.8353 - val_loss: 0.3429 - val_accuracy: 0.8854\n",
      "Epoch 90/250\n",
      "389/390 [============================>.] - ETA: 0s - loss: 0.4681 - accuracy: 0.8341\n",
      "Epoch 90: val_accuracy did not improve from 0.89320\n",
      "390/390 [==============================] - 15s 39ms/step - loss: 0.4681 - accuracy: 0.8341 - val_loss: 0.3322 - val_accuracy: 0.8913\n",
      "Epoch 91/250\n",
      "390/390 [==============================] - ETA: 0s - loss: 0.4654 - accuracy: 0.8354\n",
      "Epoch 91: val_accuracy did not improve from 0.89320\n",
      "390/390 [==============================] - 15s 39ms/step - loss: 0.4654 - accuracy: 0.8354 - val_loss: 0.3446 - val_accuracy: 0.8860\n",
      "Epoch 92/250\n",
      "389/390 [============================>.] - ETA: 0s - loss: 0.4664 - accuracy: 0.8347\n",
      "Epoch 92: val_accuracy did not improve from 0.89320\n",
      "390/390 [==============================] - 15s 40ms/step - loss: 0.4664 - accuracy: 0.8346 - val_loss: 0.3462 - val_accuracy: 0.8837\n",
      "Epoch 93/250\n",
      "389/390 [============================>.] - ETA: 0s - loss: 0.4619 - accuracy: 0.8380\n",
      "Epoch 93: val_accuracy did not improve from 0.89320\n",
      "390/390 [==============================] - 15s 39ms/step - loss: 0.4617 - accuracy: 0.8380 - val_loss: 0.3312 - val_accuracy: 0.8908\n",
      "Epoch 94/250\n",
      "390/390 [==============================] - ETA: 0s - loss: 0.4583 - accuracy: 0.8385\n",
      "Epoch 94: val_accuracy did not improve from 0.89320\n",
      "390/390 [==============================] - 16s 41ms/step - loss: 0.4583 - accuracy: 0.8385 - val_loss: 0.3324 - val_accuracy: 0.8912\n",
      "Epoch 95/250\n",
      "390/390 [==============================] - ETA: 0s - loss: 0.4660 - accuracy: 0.8349\n",
      "Epoch 95: val_accuracy did not improve from 0.89320\n",
      "390/390 [==============================] - 16s 41ms/step - loss: 0.4660 - accuracy: 0.8349 - val_loss: 0.3413 - val_accuracy: 0.8888\n",
      "Epoch 96/250\n",
      "389/390 [============================>.] - ETA: 0s - loss: 0.4568 - accuracy: 0.8391\n",
      "Epoch 96: val_accuracy did not improve from 0.89320\n",
      "390/390 [==============================] - 16s 40ms/step - loss: 0.4567 - accuracy: 0.8391 - val_loss: 0.3419 - val_accuracy: 0.8838\n",
      "Epoch 97/250\n",
      "390/390 [==============================] - ETA: 0s - loss: 0.4552 - accuracy: 0.8401\n",
      "Epoch 97: val_accuracy did not improve from 0.89320\n",
      "390/390 [==============================] - 16s 40ms/step - loss: 0.4552 - accuracy: 0.8401 - val_loss: 0.3384 - val_accuracy: 0.8889\n",
      "Epoch 98/250\n",
      "390/390 [==============================] - ETA: 0s - loss: 0.4534 - accuracy: 0.8400\n",
      "Epoch 98: val_accuracy did not improve from 0.89320\n",
      "390/390 [==============================] - 16s 41ms/step - loss: 0.4534 - accuracy: 0.8400 - val_loss: 0.3372 - val_accuracy: 0.8899\n",
      "Epoch 99/250\n",
      "389/390 [============================>.] - ETA: 0s - loss: 0.4491 - accuracy: 0.8417\n",
      "Epoch 99: val_accuracy did not improve from 0.89320\n",
      "390/390 [==============================] - 16s 40ms/step - loss: 0.4493 - accuracy: 0.8416 - val_loss: 0.3337 - val_accuracy: 0.8894\n",
      "Epoch 100/250\n",
      "389/390 [============================>.] - ETA: 0s - loss: 0.4519 - accuracy: 0.8403\n",
      "Epoch 100: val_accuracy did not improve from 0.89320\n",
      "390/390 [==============================] - 16s 40ms/step - loss: 0.4518 - accuracy: 0.8403 - val_loss: 0.3288 - val_accuracy: 0.8895\n",
      "Epoch 101/250\n",
      "390/390 [==============================] - ETA: 0s - loss: 0.4505 - accuracy: 0.8406\n",
      "Epoch 101: val_accuracy did not improve from 0.89320\n",
      "390/390 [==============================] - 16s 40ms/step - loss: 0.4505 - accuracy: 0.8406 - val_loss: 0.3309 - val_accuracy: 0.8916\n",
      "Epoch 102/250\n",
      "389/390 [============================>.] - ETA: 0s - loss: 0.4433 - accuracy: 0.8430\n",
      "Epoch 102: val_accuracy improved from 0.89320 to 0.89360, saving model to best_model\n"
     ]
    },
    {
     "name": "stderr",
     "output_type": "stream",
     "text": [
      "WARNING:absl:Found untraced functions such as _jit_compiled_convolution_op, _jit_compiled_convolution_op, _jit_compiled_convolution_op, _jit_compiled_convolution_op, _jit_compiled_convolution_op while saving (showing 5 of 12). These functions will not be directly callable after loading.\n"
     ]
    },
    {
     "name": "stdout",
     "output_type": "stream",
     "text": [
      "INFO:tensorflow:Assets written to: best_model\\assets\n"
     ]
    },
    {
     "name": "stderr",
     "output_type": "stream",
     "text": [
      "INFO:tensorflow:Assets written to: best_model\\assets\n"
     ]
    },
    {
     "name": "stdout",
     "output_type": "stream",
     "text": [
      "390/390 [==============================] - 19s 49ms/step - loss: 0.4432 - accuracy: 0.8430 - val_loss: 0.3208 - val_accuracy: 0.8936\n",
      "Epoch 103/250\n",
      "390/390 [==============================] - ETA: 0s - loss: 0.4487 - accuracy: 0.8410\n",
      "Epoch 103: val_accuracy did not improve from 0.89360\n",
      "390/390 [==============================] - 17s 42ms/step - loss: 0.4487 - accuracy: 0.8410 - val_loss: 0.3451 - val_accuracy: 0.8872\n",
      "Epoch 104/250\n",
      "389/390 [============================>.] - ETA: 0s - loss: 0.4471 - accuracy: 0.8408\n",
      "Epoch 104: val_accuracy did not improve from 0.89360\n",
      "390/390 [==============================] - 15s 40ms/step - loss: 0.4471 - accuracy: 0.8408 - val_loss: 0.3205 - val_accuracy: 0.8934\n",
      "Epoch 105/250\n",
      "390/390 [==============================] - ETA: 0s - loss: 0.4397 - accuracy: 0.8462\n",
      "Epoch 105: val_accuracy did not improve from 0.89360\n",
      "390/390 [==============================] - 16s 41ms/step - loss: 0.4397 - accuracy: 0.8462 - val_loss: 0.3269 - val_accuracy: 0.8929\n",
      "Epoch 106/250\n",
      "389/390 [============================>.] - ETA: 0s - loss: 0.4397 - accuracy: 0.8454\n",
      "Epoch 106: val_accuracy improved from 0.89360 to 0.89570, saving model to best_model\n"
     ]
    },
    {
     "name": "stderr",
     "output_type": "stream",
     "text": [
      "WARNING:absl:Found untraced functions such as _jit_compiled_convolution_op, _jit_compiled_convolution_op, _jit_compiled_convolution_op, _jit_compiled_convolution_op, _jit_compiled_convolution_op while saving (showing 5 of 12). These functions will not be directly callable after loading.\n"
     ]
    },
    {
     "name": "stdout",
     "output_type": "stream",
     "text": [
      "INFO:tensorflow:Assets written to: best_model\\assets\n"
     ]
    },
    {
     "name": "stderr",
     "output_type": "stream",
     "text": [
      "INFO:tensorflow:Assets written to: best_model\\assets\n"
     ]
    },
    {
     "name": "stdout",
     "output_type": "stream",
     "text": [
      "390/390 [==============================] - 19s 48ms/step - loss: 0.4395 - accuracy: 0.8455 - val_loss: 0.3193 - val_accuracy: 0.8957\n",
      "Epoch 107/250\n",
      "389/390 [============================>.] - ETA: 0s - loss: 0.4397 - accuracy: 0.8446\n",
      "Epoch 107: val_accuracy did not improve from 0.89570\n",
      "390/390 [==============================] - 16s 40ms/step - loss: 0.4396 - accuracy: 0.8445 - val_loss: 0.3295 - val_accuracy: 0.8926\n",
      "Epoch 108/250\n",
      "390/390 [==============================] - ETA: 0s - loss: 0.4435 - accuracy: 0.8421\n",
      "Epoch 108: val_accuracy improved from 0.89570 to 0.89750, saving model to best_model\n"
     ]
    },
    {
     "name": "stderr",
     "output_type": "stream",
     "text": [
      "WARNING:absl:Found untraced functions such as _jit_compiled_convolution_op, _jit_compiled_convolution_op, _jit_compiled_convolution_op, _jit_compiled_convolution_op, _jit_compiled_convolution_op while saving (showing 5 of 12). These functions will not be directly callable after loading.\n"
     ]
    },
    {
     "name": "stdout",
     "output_type": "stream",
     "text": [
      "INFO:tensorflow:Assets written to: best_model\\assets\n"
     ]
    },
    {
     "name": "stderr",
     "output_type": "stream",
     "text": [
      "INFO:tensorflow:Assets written to: best_model\\assets\n"
     ]
    },
    {
     "name": "stdout",
     "output_type": "stream",
     "text": [
      "390/390 [==============================] - 20s 52ms/step - loss: 0.4435 - accuracy: 0.8421 - val_loss: 0.3195 - val_accuracy: 0.8975\n",
      "Epoch 109/250\n",
      "389/390 [============================>.] - ETA: 0s - loss: 0.4445 - accuracy: 0.8435\n",
      "Epoch 109: val_accuracy did not improve from 0.89750\n",
      "390/390 [==============================] - 16s 41ms/step - loss: 0.4446 - accuracy: 0.8435 - val_loss: 0.3277 - val_accuracy: 0.8922\n",
      "Epoch 110/250\n",
      "390/390 [==============================] - ETA: 0s - loss: 0.4430 - accuracy: 0.8441\n",
      "Epoch 110: val_accuracy did not improve from 0.89750\n",
      "390/390 [==============================] - 15s 39ms/step - loss: 0.4430 - accuracy: 0.8441 - val_loss: 0.3245 - val_accuracy: 0.8960\n",
      "Epoch 111/250\n",
      "390/390 [==============================] - ETA: 0s - loss: 0.4326 - accuracy: 0.8466\n",
      "Epoch 111: val_accuracy improved from 0.89750 to 0.89840, saving model to best_model\n"
     ]
    },
    {
     "name": "stderr",
     "output_type": "stream",
     "text": [
      "WARNING:absl:Found untraced functions such as _jit_compiled_convolution_op, _jit_compiled_convolution_op, _jit_compiled_convolution_op, _jit_compiled_convolution_op, _jit_compiled_convolution_op while saving (showing 5 of 12). These functions will not be directly callable after loading.\n"
     ]
    },
    {
     "name": "stdout",
     "output_type": "stream",
     "text": [
      "INFO:tensorflow:Assets written to: best_model\\assets\n"
     ]
    },
    {
     "name": "stderr",
     "output_type": "stream",
     "text": [
      "INFO:tensorflow:Assets written to: best_model\\assets\n"
     ]
    },
    {
     "name": "stdout",
     "output_type": "stream",
     "text": [
      "390/390 [==============================] - 18s 46ms/step - loss: 0.4326 - accuracy: 0.8466 - val_loss: 0.3151 - val_accuracy: 0.8984\n",
      "Epoch 112/250\n",
      "390/390 [==============================] - ETA: 0s - loss: 0.4326 - accuracy: 0.8482\n",
      "Epoch 112: val_accuracy did not improve from 0.89840\n",
      "390/390 [==============================] - 15s 39ms/step - loss: 0.4326 - accuracy: 0.8482 - val_loss: 0.3247 - val_accuracy: 0.8962\n",
      "Epoch 113/250\n",
      "389/390 [============================>.] - ETA: 0s - loss: 0.4337 - accuracy: 0.8481\n",
      "Epoch 113: val_accuracy did not improve from 0.89840\n",
      "390/390 [==============================] - 15s 39ms/step - loss: 0.4336 - accuracy: 0.8481 - val_loss: 0.3278 - val_accuracy: 0.8973\n",
      "Epoch 114/250\n",
      "390/390 [==============================] - ETA: 0s - loss: 0.4327 - accuracy: 0.8472\n",
      "Epoch 114: val_accuracy did not improve from 0.89840\n",
      "390/390 [==============================] - 15s 39ms/step - loss: 0.4327 - accuracy: 0.8472 - val_loss: 0.3253 - val_accuracy: 0.8958\n",
      "Epoch 115/250\n",
      "390/390 [==============================] - ETA: 0s - loss: 0.4350 - accuracy: 0.8453\n",
      "Epoch 115: val_accuracy did not improve from 0.89840\n",
      "390/390 [==============================] - 16s 40ms/step - loss: 0.4350 - accuracy: 0.8453 - val_loss: 0.3189 - val_accuracy: 0.8982\n",
      "Epoch 116/250\n",
      "390/390 [==============================] - ETA: 0s - loss: 0.4279 - accuracy: 0.8490\n",
      "Epoch 116: val_accuracy did not improve from 0.89840\n",
      "390/390 [==============================] - 16s 40ms/step - loss: 0.4279 - accuracy: 0.8490 - val_loss: 0.3247 - val_accuracy: 0.8961\n",
      "Epoch 117/250\n",
      "389/390 [============================>.] - ETA: 0s - loss: 0.4285 - accuracy: 0.8502\n",
      "Epoch 117: val_accuracy did not improve from 0.89840\n",
      "390/390 [==============================] - 16s 40ms/step - loss: 0.4282 - accuracy: 0.8503 - val_loss: 0.3248 - val_accuracy: 0.8940\n",
      "Epoch 118/250\n",
      "389/390 [============================>.] - ETA: 0s - loss: 0.4303 - accuracy: 0.8477\n",
      "Epoch 118: val_accuracy did not improve from 0.89840\n",
      "390/390 [==============================] - 15s 39ms/step - loss: 0.4303 - accuracy: 0.8477 - val_loss: 0.3362 - val_accuracy: 0.8951\n",
      "Epoch 119/250\n",
      "390/390 [==============================] - ETA: 0s - loss: 0.4308 - accuracy: 0.8480\n",
      "Epoch 119: val_accuracy did not improve from 0.89840\n",
      "390/390 [==============================] - 15s 40ms/step - loss: 0.4308 - accuracy: 0.8480 - val_loss: 0.3192 - val_accuracy: 0.8977\n",
      "Epoch 120/250\n",
      "389/390 [============================>.] - ETA: 0s - loss: 0.4309 - accuracy: 0.8492\n",
      "Epoch 120: val_accuracy did not improve from 0.89840\n",
      "390/390 [==============================] - 16s 41ms/step - loss: 0.4309 - accuracy: 0.8492 - val_loss: 0.3184 - val_accuracy: 0.8941\n",
      "Epoch 121/250\n",
      "390/390 [==============================] - ETA: 0s - loss: 0.4251 - accuracy: 0.8500\n",
      "Epoch 121: val_accuracy did not improve from 0.89840\n",
      "390/390 [==============================] - 16s 40ms/step - loss: 0.4251 - accuracy: 0.8500 - val_loss: 0.3139 - val_accuracy: 0.8967\n",
      "Epoch 122/250\n",
      "390/390 [==============================] - ETA: 0s - loss: 0.4226 - accuracy: 0.8501\n",
      "Epoch 122: val_accuracy did not improve from 0.89840\n",
      "390/390 [==============================] - 16s 40ms/step - loss: 0.4226 - accuracy: 0.8501 - val_loss: 0.3210 - val_accuracy: 0.8955\n",
      "Epoch 123/250\n",
      "389/390 [============================>.] - ETA: 0s - loss: 0.4223 - accuracy: 0.8498\n",
      "Epoch 123: val_accuracy did not improve from 0.89840\n",
      "390/390 [==============================] - 15s 39ms/step - loss: 0.4220 - accuracy: 0.8499 - val_loss: 0.3225 - val_accuracy: 0.8966\n",
      "Epoch 124/250\n",
      "389/390 [============================>.] - ETA: 0s - loss: 0.4246 - accuracy: 0.8491\n",
      "Epoch 124: val_accuracy did not improve from 0.89840\n",
      "390/390 [==============================] - 15s 39ms/step - loss: 0.4244 - accuracy: 0.8491 - val_loss: 0.3246 - val_accuracy: 0.8957\n",
      "Epoch 125/250\n",
      "389/390 [============================>.] - ETA: 0s - loss: 0.4218 - accuracy: 0.8503\n",
      "Epoch 125: val_accuracy did not improve from 0.89840\n",
      "390/390 [==============================] - 15s 39ms/step - loss: 0.4218 - accuracy: 0.8503 - val_loss: 0.3124 - val_accuracy: 0.8977\n",
      "Epoch 126/250\n",
      "389/390 [============================>.] - ETA: 0s - loss: 0.4192 - accuracy: 0.8536\n",
      "Epoch 126: val_accuracy did not improve from 0.89840\n",
      "390/390 [==============================] - 15s 39ms/step - loss: 0.4191 - accuracy: 0.8537 - val_loss: 0.3266 - val_accuracy: 0.8936\n",
      "Epoch 127/250\n",
      "389/390 [============================>.] - ETA: 0s - loss: 0.4185 - accuracy: 0.8528\n",
      "Epoch 127: val_accuracy did not improve from 0.89840\n",
      "390/390 [==============================] - 16s 41ms/step - loss: 0.4182 - accuracy: 0.8528 - val_loss: 0.3289 - val_accuracy: 0.8939\n",
      "Epoch 128/250\n",
      "390/390 [==============================] - ETA: 0s - loss: 0.4153 - accuracy: 0.8539\n",
      "Epoch 128: val_accuracy did not improve from 0.89840\n",
      "390/390 [==============================] - 16s 41ms/step - loss: 0.4153 - accuracy: 0.8539 - val_loss: 0.3280 - val_accuracy: 0.8945\n",
      "Epoch 129/250\n",
      "390/390 [==============================] - ETA: 0s - loss: 0.4199 - accuracy: 0.8522\n",
      "Epoch 129: val_accuracy did not improve from 0.89840\n",
      "390/390 [==============================] - 16s 40ms/step - loss: 0.4199 - accuracy: 0.8522 - val_loss: 0.3212 - val_accuracy: 0.8971\n",
      "Epoch 130/250\n",
      "390/390 [==============================] - ETA: 0s - loss: 0.4149 - accuracy: 0.8530\n",
      "Epoch 130: val_accuracy did not improve from 0.89840\n",
      "390/390 [==============================] - 15s 39ms/step - loss: 0.4149 - accuracy: 0.8530 - val_loss: 0.3195 - val_accuracy: 0.8977\n",
      "Epoch 131/250\n",
      "390/390 [==============================] - ETA: 0s - loss: 0.4128 - accuracy: 0.8543\n",
      "Epoch 131: val_accuracy did not improve from 0.89840\n",
      "390/390 [==============================] - 15s 39ms/step - loss: 0.4128 - accuracy: 0.8543 - val_loss: 0.3283 - val_accuracy: 0.8946\n",
      "Epoch 132/250\n",
      "390/390 [==============================] - ETA: 0s - loss: 0.4109 - accuracy: 0.8565\n",
      "Epoch 132: val_accuracy did not improve from 0.89840\n",
      "390/390 [==============================] - 15s 38ms/step - loss: 0.4109 - accuracy: 0.8565 - val_loss: 0.3211 - val_accuracy: 0.8950\n",
      "Epoch 133/250\n",
      "389/390 [============================>.] - ETA: 0s - loss: 0.4158 - accuracy: 0.8514\n",
      "Epoch 133: val_accuracy did not improve from 0.89840\n",
      "390/390 [==============================] - 16s 42ms/step - loss: 0.4158 - accuracy: 0.8515 - val_loss: 0.3190 - val_accuracy: 0.8975\n",
      "Epoch 134/250\n",
      "390/390 [==============================] - ETA: 0s - loss: 0.4106 - accuracy: 0.8562\n",
      "Epoch 134: val_accuracy did not improve from 0.89840\n",
      "390/390 [==============================] - 16s 41ms/step - loss: 0.4106 - accuracy: 0.8562 - val_loss: 0.3236 - val_accuracy: 0.8980\n",
      "Epoch 135/250\n",
      "389/390 [============================>.] - ETA: 0s - loss: 0.4100 - accuracy: 0.8548\n",
      "Epoch 135: val_accuracy did not improve from 0.89840\n",
      "390/390 [==============================] - 16s 42ms/step - loss: 0.4104 - accuracy: 0.8547 - val_loss: 0.3321 - val_accuracy: 0.8960\n",
      "Epoch 136/250\n",
      "389/390 [============================>.] - ETA: 0s - loss: 0.4134 - accuracy: 0.8542\n",
      "Epoch 136: val_accuracy did not improve from 0.89840\n",
      "390/390 [==============================] - 15s 38ms/step - loss: 0.4133 - accuracy: 0.8543 - val_loss: 0.3200 - val_accuracy: 0.8981\n",
      "Epoch 137/250\n",
      "390/390 [==============================] - ETA: 0s - loss: 0.4119 - accuracy: 0.8554\n",
      "Epoch 137: val_accuracy did not improve from 0.89840\n",
      "390/390 [==============================] - 17s 43ms/step - loss: 0.4119 - accuracy: 0.8554 - val_loss: 0.3214 - val_accuracy: 0.8953\n",
      "Epoch 138/250\n",
      "390/390 [==============================] - ETA: 0s - loss: 0.4094 - accuracy: 0.8551\n",
      "Epoch 138: val_accuracy improved from 0.89840 to 0.89860, saving model to best_model\n"
     ]
    },
    {
     "name": "stderr",
     "output_type": "stream",
     "text": [
      "WARNING:absl:Found untraced functions such as _jit_compiled_convolution_op, _jit_compiled_convolution_op, _jit_compiled_convolution_op, _jit_compiled_convolution_op, _jit_compiled_convolution_op while saving (showing 5 of 12). These functions will not be directly callable after loading.\n"
     ]
    },
    {
     "name": "stdout",
     "output_type": "stream",
     "text": [
      "INFO:tensorflow:Assets written to: best_model\\assets\n"
     ]
    },
    {
     "name": "stderr",
     "output_type": "stream",
     "text": [
      "INFO:tensorflow:Assets written to: best_model\\assets\n"
     ]
    },
    {
     "name": "stdout",
     "output_type": "stream",
     "text": [
      "390/390 [==============================] - 19s 49ms/step - loss: 0.4094 - accuracy: 0.8551 - val_loss: 0.3129 - val_accuracy: 0.8986\n",
      "Epoch 139/250\n",
      "389/390 [============================>.] - ETA: 0s - loss: 0.4067 - accuracy: 0.8564\n",
      "Epoch 139: val_accuracy did not improve from 0.89860\n",
      "390/390 [==============================] - 16s 40ms/step - loss: 0.4065 - accuracy: 0.8565 - val_loss: 0.3259 - val_accuracy: 0.8982\n",
      "Epoch 140/250\n",
      "389/390 [============================>.] - ETA: 0s - loss: 0.4030 - accuracy: 0.8583\n",
      "Epoch 140: val_accuracy did not improve from 0.89860\n",
      "390/390 [==============================] - 16s 40ms/step - loss: 0.4030 - accuracy: 0.8583 - val_loss: 0.3299 - val_accuracy: 0.8939\n",
      "Epoch 141/250\n",
      "389/390 [============================>.] - ETA: 0s - loss: 0.4024 - accuracy: 0.8579\n",
      "Epoch 141: val_accuracy improved from 0.89860 to 0.89900, saving model to best_model\n"
     ]
    },
    {
     "name": "stderr",
     "output_type": "stream",
     "text": [
      "WARNING:absl:Found untraced functions such as _jit_compiled_convolution_op, _jit_compiled_convolution_op, _jit_compiled_convolution_op, _jit_compiled_convolution_op, _jit_compiled_convolution_op while saving (showing 5 of 12). These functions will not be directly callable after loading.\n"
     ]
    },
    {
     "name": "stdout",
     "output_type": "stream",
     "text": [
      "INFO:tensorflow:Assets written to: best_model\\assets\n"
     ]
    },
    {
     "name": "stderr",
     "output_type": "stream",
     "text": [
      "INFO:tensorflow:Assets written to: best_model\\assets\n"
     ]
    },
    {
     "name": "stdout",
     "output_type": "stream",
     "text": [
      "390/390 [==============================] - 19s 48ms/step - loss: 0.4027 - accuracy: 0.8578 - val_loss: 0.3160 - val_accuracy: 0.8990\n",
      "Epoch 142/250\n",
      "390/390 [==============================] - ETA: 0s - loss: 0.4049 - accuracy: 0.8570\n",
      "Epoch 142: val_accuracy did not improve from 0.89900\n",
      "390/390 [==============================] - 16s 40ms/step - loss: 0.4049 - accuracy: 0.8570 - val_loss: 0.3197 - val_accuracy: 0.8965\n",
      "Epoch 143/250\n",
      "390/390 [==============================] - ETA: 0s - loss: 0.4055 - accuracy: 0.8574\n",
      "Epoch 143: val_accuracy did not improve from 0.89900\n",
      "390/390 [==============================] - 16s 40ms/step - loss: 0.4055 - accuracy: 0.8574 - val_loss: 0.3242 - val_accuracy: 0.8961\n",
      "Epoch 144/250\n",
      "389/390 [============================>.] - ETA: 0s - loss: 0.4043 - accuracy: 0.8577\n",
      "Epoch 144: val_accuracy improved from 0.89900 to 0.90070, saving model to best_model\n"
     ]
    },
    {
     "name": "stderr",
     "output_type": "stream",
     "text": [
      "WARNING:absl:Found untraced functions such as _jit_compiled_convolution_op, _jit_compiled_convolution_op, _jit_compiled_convolution_op, _jit_compiled_convolution_op, _jit_compiled_convolution_op while saving (showing 5 of 12). These functions will not be directly callable after loading.\n"
     ]
    },
    {
     "name": "stdout",
     "output_type": "stream",
     "text": [
      "INFO:tensorflow:Assets written to: best_model\\assets\n"
     ]
    },
    {
     "name": "stderr",
     "output_type": "stream",
     "text": [
      "INFO:tensorflow:Assets written to: best_model\\assets\n"
     ]
    },
    {
     "name": "stdout",
     "output_type": "stream",
     "text": [
      "390/390 [==============================] - 18s 46ms/step - loss: 0.4041 - accuracy: 0.8578 - val_loss: 0.3179 - val_accuracy: 0.9007\n",
      "Epoch 145/250\n",
      "390/390 [==============================] - ETA: 0s - loss: 0.3964 - accuracy: 0.8594\n",
      "Epoch 145: val_accuracy did not improve from 0.90070\n",
      "390/390 [==============================] - 16s 41ms/step - loss: 0.3964 - accuracy: 0.8594 - val_loss: 0.3139 - val_accuracy: 0.9006\n",
      "Epoch 146/250\n",
      "389/390 [============================>.] - ETA: 0s - loss: 0.3993 - accuracy: 0.8590\n",
      "Epoch 146: val_accuracy did not improve from 0.90070\n",
      "390/390 [==============================] - 15s 40ms/step - loss: 0.3992 - accuracy: 0.8591 - val_loss: 0.3217 - val_accuracy: 0.8956\n",
      "Epoch 147/250\n",
      "389/390 [============================>.] - ETA: 0s - loss: 0.3985 - accuracy: 0.8588\n",
      "Epoch 147: val_accuracy did not improve from 0.90070\n",
      "390/390 [==============================] - 16s 40ms/step - loss: 0.3986 - accuracy: 0.8587 - val_loss: 0.3257 - val_accuracy: 0.8981\n",
      "Epoch 148/250\n",
      "389/390 [============================>.] - ETA: 0s - loss: 0.3911 - accuracy: 0.8618\n",
      "Epoch 148: val_accuracy did not improve from 0.90070\n",
      "390/390 [==============================] - 15s 39ms/step - loss: 0.3911 - accuracy: 0.8618 - val_loss: 0.3177 - val_accuracy: 0.8976\n",
      "Epoch 149/250\n",
      "389/390 [============================>.] - ETA: 0s - loss: 0.3936 - accuracy: 0.8607\n",
      "Epoch 149: val_accuracy did not improve from 0.90070\n",
      "390/390 [==============================] - 16s 41ms/step - loss: 0.3936 - accuracy: 0.8607 - val_loss: 0.3195 - val_accuracy: 0.8974\n",
      "Epoch 150/250\n",
      "390/390 [==============================] - ETA: 0s - loss: 0.3959 - accuracy: 0.8593\n",
      "Epoch 150: val_accuracy did not improve from 0.90070\n",
      "390/390 [==============================] - 16s 40ms/step - loss: 0.3959 - accuracy: 0.8593 - val_loss: 0.3121 - val_accuracy: 0.8998\n",
      "Epoch 151/250\n",
      "389/390 [============================>.] - ETA: 0s - loss: 0.3897 - accuracy: 0.8627\n",
      "Epoch 151: val_accuracy did not improve from 0.90070\n",
      "390/390 [==============================] - 17s 42ms/step - loss: 0.3894 - accuracy: 0.8628 - val_loss: 0.3289 - val_accuracy: 0.8954\n",
      "Epoch 152/250\n",
      "389/390 [============================>.] - ETA: 0s - loss: 0.3904 - accuracy: 0.8620\n",
      "Epoch 152: val_accuracy did not improve from 0.90070\n",
      "390/390 [==============================] - 16s 41ms/step - loss: 0.3906 - accuracy: 0.8619 - val_loss: 0.3276 - val_accuracy: 0.8965\n",
      "Epoch 153/250\n",
      "390/390 [==============================] - ETA: 0s - loss: 0.3923 - accuracy: 0.8609\n",
      "Epoch 153: val_accuracy did not improve from 0.90070\n",
      "390/390 [==============================] - 16s 41ms/step - loss: 0.3923 - accuracy: 0.8609 - val_loss: 0.3245 - val_accuracy: 0.8996\n",
      "Epoch 154/250\n",
      "390/390 [==============================] - ETA: 0s - loss: 0.3981 - accuracy: 0.8598\n",
      "Epoch 154: val_accuracy did not improve from 0.90070\n",
      "390/390 [==============================] - 16s 40ms/step - loss: 0.3981 - accuracy: 0.8598 - val_loss: 0.3237 - val_accuracy: 0.8985\n",
      "Epoch 155/250\n",
      "389/390 [============================>.] - ETA: 0s - loss: 0.3918 - accuracy: 0.8616\n",
      "Epoch 155: val_accuracy did not improve from 0.90070\n",
      "390/390 [==============================] - 15s 39ms/step - loss: 0.3917 - accuracy: 0.8616 - val_loss: 0.3158 - val_accuracy: 0.8995\n",
      "Epoch 156/250\n",
      "390/390 [==============================] - ETA: 0s - loss: 0.3945 - accuracy: 0.8608\n",
      "Epoch 156: val_accuracy did not improve from 0.90070\n",
      "390/390 [==============================] - 15s 39ms/step - loss: 0.3945 - accuracy: 0.8608 - val_loss: 0.3205 - val_accuracy: 0.9007\n",
      "Epoch 157/250\n",
      "390/390 [==============================] - ETA: 0s - loss: 0.3888 - accuracy: 0.8621\n",
      "Epoch 157: val_accuracy did not improve from 0.90070\n",
      "390/390 [==============================] - 15s 39ms/step - loss: 0.3888 - accuracy: 0.8621 - val_loss: 0.3225 - val_accuracy: 0.8973\n",
      "Epoch 158/250\n",
      "389/390 [============================>.] - ETA: 0s - loss: 0.3914 - accuracy: 0.8627\n",
      "Epoch 158: val_accuracy did not improve from 0.90070\n",
      "390/390 [==============================] - 19s 48ms/step - loss: 0.3911 - accuracy: 0.8627 - val_loss: 0.3284 - val_accuracy: 0.8984\n",
      "Epoch 159/250\n",
      "389/390 [============================>.] - ETA: 0s - loss: 0.3896 - accuracy: 0.8636\n",
      "Epoch 159: val_accuracy did not improve from 0.90070\n",
      "390/390 [==============================] - 15s 39ms/step - loss: 0.3895 - accuracy: 0.8637 - val_loss: 0.3172 - val_accuracy: 0.8976\n",
      "Epoch 160/250\n",
      "390/390 [==============================] - ETA: 0s - loss: 0.3919 - accuracy: 0.8620\n",
      "Epoch 160: val_accuracy did not improve from 0.90070\n",
      "390/390 [==============================] - 15s 39ms/step - loss: 0.3919 - accuracy: 0.8620 - val_loss: 0.3143 - val_accuracy: 0.8980\n",
      "Epoch 161/250\n",
      "389/390 [============================>.] - ETA: 0s - loss: 0.3936 - accuracy: 0.8621\n",
      "Epoch 161: val_accuracy did not improve from 0.90070\n",
      "390/390 [==============================] - 15s 38ms/step - loss: 0.3933 - accuracy: 0.8622 - val_loss: 0.3187 - val_accuracy: 0.8990\n",
      "Epoch 162/250\n",
      "389/390 [============================>.] - ETA: 0s - loss: 0.3852 - accuracy: 0.8629\n",
      "Epoch 162: val_accuracy did not improve from 0.90070\n",
      "390/390 [==============================] - 16s 40ms/step - loss: 0.3855 - accuracy: 0.8627 - val_loss: 0.3104 - val_accuracy: 0.9004\n",
      "Epoch 163/250\n",
      "390/390 [==============================] - ETA: 0s - loss: 0.3921 - accuracy: 0.8614\n",
      "Epoch 163: val_accuracy improved from 0.90070 to 0.90110, saving model to best_model\n"
     ]
    },
    {
     "name": "stderr",
     "output_type": "stream",
     "text": [
      "WARNING:absl:Found untraced functions such as _jit_compiled_convolution_op, _jit_compiled_convolution_op, _jit_compiled_convolution_op, _jit_compiled_convolution_op, _jit_compiled_convolution_op while saving (showing 5 of 12). These functions will not be directly callable after loading.\n"
     ]
    },
    {
     "name": "stdout",
     "output_type": "stream",
     "text": [
      "INFO:tensorflow:Assets written to: best_model\\assets\n"
     ]
    },
    {
     "name": "stderr",
     "output_type": "stream",
     "text": [
      "INFO:tensorflow:Assets written to: best_model\\assets\n"
     ]
    },
    {
     "name": "stdout",
     "output_type": "stream",
     "text": [
      "390/390 [==============================] - 21s 53ms/step - loss: 0.3921 - accuracy: 0.8614 - val_loss: 0.3097 - val_accuracy: 0.9011\n",
      "Epoch 164/250\n",
      "390/390 [==============================] - ETA: 0s - loss: 0.3866 - accuracy: 0.8627\n",
      "Epoch 164: val_accuracy did not improve from 0.90110\n",
      "390/390 [==============================] - 16s 40ms/step - loss: 0.3866 - accuracy: 0.8627 - val_loss: 0.3192 - val_accuracy: 0.8979\n",
      "Epoch 165/250\n",
      "390/390 [==============================] - ETA: 0s - loss: 0.3854 - accuracy: 0.8645\n",
      "Epoch 165: val_accuracy did not improve from 0.90110\n",
      "390/390 [==============================] - 16s 42ms/step - loss: 0.3854 - accuracy: 0.8645 - val_loss: 0.3228 - val_accuracy: 0.8989\n",
      "Epoch 166/250\n",
      "389/390 [============================>.] - ETA: 0s - loss: 0.3877 - accuracy: 0.8622\n",
      "Epoch 166: val_accuracy did not improve from 0.90110\n",
      "390/390 [==============================] - 17s 43ms/step - loss: 0.3877 - accuracy: 0.8622 - val_loss: 0.3149 - val_accuracy: 0.8998\n",
      "Epoch 167/250\n",
      "385/390 [============================>.] - ETA: 0s - loss: 0.3857 - accuracy: 0.8652"
     ]
    },
    {
     "ename": "KeyboardInterrupt",
     "evalue": "",
     "output_type": "error",
     "traceback": [
      "\u001b[1;31m---------------------------------------------------------------------------\u001b[0m",
      "\u001b[1;31mKeyboardInterrupt\u001b[0m                         Traceback (most recent call last)",
      "Cell \u001b[1;32mIn[71], line 10\u001b[0m\n\u001b[0;32m      7\u001b[0m custom_data_generator \u001b[38;5;241m=\u001b[39m CustomImageDataGenerator(x_train, y_train, batch_size\u001b[38;5;241m=\u001b[39m\u001b[38;5;241m128\u001b[39m, augmentations\u001b[38;5;241m=\u001b[39mcustom_augmentations)\n\u001b[0;32m      9\u001b[0m \u001b[38;5;66;03m# Train the model using the custom data generator\u001b[39;00m\n\u001b[1;32m---> 10\u001b[0m history \u001b[38;5;241m=\u001b[39m \u001b[43mmodel\u001b[49m\u001b[38;5;241;43m.\u001b[39;49m\u001b[43mfit\u001b[49m\u001b[43m(\u001b[49m\u001b[43mcustom_data_generator\u001b[49m\u001b[43m,\u001b[49m\n\u001b[0;32m     11\u001b[0m \u001b[43m                    \u001b[49m\u001b[43msteps_per_epoch\u001b[49m\u001b[38;5;241;43m=\u001b[39;49m\u001b[38;5;28;43mlen\u001b[39;49m\u001b[43m(\u001b[49m\u001b[43mx_train\u001b[49m\u001b[43m)\u001b[49m\u001b[43m \u001b[49m\u001b[38;5;241;43m/\u001b[39;49m\u001b[38;5;241;43m/\u001b[39;49m\u001b[43m \u001b[49m\u001b[38;5;241;43m128\u001b[39;49m\u001b[43m,\u001b[49m\n\u001b[0;32m     12\u001b[0m \u001b[43m                    \u001b[49m\u001b[43mepochs\u001b[49m\u001b[38;5;241;43m=\u001b[39;49m\u001b[38;5;241;43m250\u001b[39;49m\u001b[43m,\u001b[49m\u001b[43m \u001b[49m\n\u001b[0;32m     13\u001b[0m \u001b[43m                    \u001b[49m\u001b[43mvalidation_data\u001b[49m\u001b[38;5;241;43m=\u001b[39;49m\u001b[43m(\u001b[49m\u001b[43mx_test\u001b[49m\u001b[43m,\u001b[49m\u001b[43m \u001b[49m\u001b[43my_test\u001b[49m\u001b[43m)\u001b[49m\u001b[43m,\u001b[49m\n\u001b[0;32m     14\u001b[0m \u001b[43m                    \u001b[49m\u001b[43mcallbacks\u001b[49m\u001b[38;5;241;43m=\u001b[39;49m\u001b[43m[\u001b[49m\u001b[43mcheckpoint\u001b[49m\u001b[43m]\u001b[49m\u001b[43m)\u001b[49m\n",
      "File \u001b[1;32m~\\anaconda3\\envs\\py310\\lib\\site-packages\\keras\\utils\\traceback_utils.py:65\u001b[0m, in \u001b[0;36mfilter_traceback.<locals>.error_handler\u001b[1;34m(*args, **kwargs)\u001b[0m\n\u001b[0;32m     63\u001b[0m filtered_tb \u001b[38;5;241m=\u001b[39m \u001b[38;5;28;01mNone\u001b[39;00m\n\u001b[0;32m     64\u001b[0m \u001b[38;5;28;01mtry\u001b[39;00m:\n\u001b[1;32m---> 65\u001b[0m     \u001b[38;5;28;01mreturn\u001b[39;00m fn(\u001b[38;5;241m*\u001b[39margs, \u001b[38;5;241m*\u001b[39m\u001b[38;5;241m*\u001b[39mkwargs)\n\u001b[0;32m     66\u001b[0m \u001b[38;5;28;01mexcept\u001b[39;00m \u001b[38;5;167;01mException\u001b[39;00m \u001b[38;5;28;01mas\u001b[39;00m e:\n\u001b[0;32m     67\u001b[0m     filtered_tb \u001b[38;5;241m=\u001b[39m _process_traceback_frames(e\u001b[38;5;241m.\u001b[39m__traceback__)\n",
      "File \u001b[1;32m~\\anaconda3\\envs\\py310\\lib\\site-packages\\keras\\engine\\training.py:1564\u001b[0m, in \u001b[0;36mModel.fit\u001b[1;34m(self, x, y, batch_size, epochs, verbose, callbacks, validation_split, validation_data, shuffle, class_weight, sample_weight, initial_epoch, steps_per_epoch, validation_steps, validation_batch_size, validation_freq, max_queue_size, workers, use_multiprocessing)\u001b[0m\n\u001b[0;32m   1556\u001b[0m \u001b[38;5;28;01mwith\u001b[39;00m tf\u001b[38;5;241m.\u001b[39mprofiler\u001b[38;5;241m.\u001b[39mexperimental\u001b[38;5;241m.\u001b[39mTrace(\n\u001b[0;32m   1557\u001b[0m     \u001b[38;5;124m\"\u001b[39m\u001b[38;5;124mtrain\u001b[39m\u001b[38;5;124m\"\u001b[39m,\n\u001b[0;32m   1558\u001b[0m     epoch_num\u001b[38;5;241m=\u001b[39mepoch,\n\u001b[1;32m   (...)\u001b[0m\n\u001b[0;32m   1561\u001b[0m     _r\u001b[38;5;241m=\u001b[39m\u001b[38;5;241m1\u001b[39m,\n\u001b[0;32m   1562\u001b[0m ):\n\u001b[0;32m   1563\u001b[0m     callbacks\u001b[38;5;241m.\u001b[39mon_train_batch_begin(step)\n\u001b[1;32m-> 1564\u001b[0m     tmp_logs \u001b[38;5;241m=\u001b[39m \u001b[38;5;28;43mself\u001b[39;49m\u001b[38;5;241;43m.\u001b[39;49m\u001b[43mtrain_function\u001b[49m\u001b[43m(\u001b[49m\u001b[43miterator\u001b[49m\u001b[43m)\u001b[49m\n\u001b[0;32m   1565\u001b[0m     \u001b[38;5;28;01mif\u001b[39;00m data_handler\u001b[38;5;241m.\u001b[39mshould_sync:\n\u001b[0;32m   1566\u001b[0m         context\u001b[38;5;241m.\u001b[39masync_wait()\n",
      "File \u001b[1;32m~\\anaconda3\\envs\\py310\\lib\\site-packages\\tensorflow\\python\\util\\traceback_utils.py:150\u001b[0m, in \u001b[0;36mfilter_traceback.<locals>.error_handler\u001b[1;34m(*args, **kwargs)\u001b[0m\n\u001b[0;32m    148\u001b[0m filtered_tb \u001b[38;5;241m=\u001b[39m \u001b[38;5;28;01mNone\u001b[39;00m\n\u001b[0;32m    149\u001b[0m \u001b[38;5;28;01mtry\u001b[39;00m:\n\u001b[1;32m--> 150\u001b[0m   \u001b[38;5;28;01mreturn\u001b[39;00m fn(\u001b[38;5;241m*\u001b[39margs, \u001b[38;5;241m*\u001b[39m\u001b[38;5;241m*\u001b[39mkwargs)\n\u001b[0;32m    151\u001b[0m \u001b[38;5;28;01mexcept\u001b[39;00m \u001b[38;5;167;01mException\u001b[39;00m \u001b[38;5;28;01mas\u001b[39;00m e:\n\u001b[0;32m    152\u001b[0m   filtered_tb \u001b[38;5;241m=\u001b[39m _process_traceback_frames(e\u001b[38;5;241m.\u001b[39m__traceback__)\n",
      "File \u001b[1;32m~\\anaconda3\\envs\\py310\\lib\\site-packages\\tensorflow\\python\\eager\\def_function.py:915\u001b[0m, in \u001b[0;36mFunction.__call__\u001b[1;34m(self, *args, **kwds)\u001b[0m\n\u001b[0;32m    912\u001b[0m compiler \u001b[38;5;241m=\u001b[39m \u001b[38;5;124m\"\u001b[39m\u001b[38;5;124mxla\u001b[39m\u001b[38;5;124m\"\u001b[39m \u001b[38;5;28;01mif\u001b[39;00m \u001b[38;5;28mself\u001b[39m\u001b[38;5;241m.\u001b[39m_jit_compile \u001b[38;5;28;01melse\u001b[39;00m \u001b[38;5;124m\"\u001b[39m\u001b[38;5;124mnonXla\u001b[39m\u001b[38;5;124m\"\u001b[39m\n\u001b[0;32m    914\u001b[0m \u001b[38;5;28;01mwith\u001b[39;00m OptionalXlaContext(\u001b[38;5;28mself\u001b[39m\u001b[38;5;241m.\u001b[39m_jit_compile):\n\u001b[1;32m--> 915\u001b[0m   result \u001b[38;5;241m=\u001b[39m \u001b[38;5;28mself\u001b[39m\u001b[38;5;241m.\u001b[39m_call(\u001b[38;5;241m*\u001b[39margs, \u001b[38;5;241m*\u001b[39m\u001b[38;5;241m*\u001b[39mkwds)\n\u001b[0;32m    917\u001b[0m new_tracing_count \u001b[38;5;241m=\u001b[39m \u001b[38;5;28mself\u001b[39m\u001b[38;5;241m.\u001b[39mexperimental_get_tracing_count()\n\u001b[0;32m    918\u001b[0m without_tracing \u001b[38;5;241m=\u001b[39m (tracing_count \u001b[38;5;241m==\u001b[39m new_tracing_count)\n",
      "File \u001b[1;32m~\\anaconda3\\envs\\py310\\lib\\site-packages\\tensorflow\\python\\eager\\def_function.py:947\u001b[0m, in \u001b[0;36mFunction._call\u001b[1;34m(self, *args, **kwds)\u001b[0m\n\u001b[0;32m    944\u001b[0m   \u001b[38;5;28mself\u001b[39m\u001b[38;5;241m.\u001b[39m_lock\u001b[38;5;241m.\u001b[39mrelease()\n\u001b[0;32m    945\u001b[0m   \u001b[38;5;66;03m# In this case we have created variables on the first call, so we run the\u001b[39;00m\n\u001b[0;32m    946\u001b[0m   \u001b[38;5;66;03m# defunned version which is guaranteed to never create variables.\u001b[39;00m\n\u001b[1;32m--> 947\u001b[0m   \u001b[38;5;28;01mreturn\u001b[39;00m \u001b[38;5;28mself\u001b[39m\u001b[38;5;241m.\u001b[39m_stateless_fn(\u001b[38;5;241m*\u001b[39margs, \u001b[38;5;241m*\u001b[39m\u001b[38;5;241m*\u001b[39mkwds)  \u001b[38;5;66;03m# pylint: disable=not-callable\u001b[39;00m\n\u001b[0;32m    948\u001b[0m \u001b[38;5;28;01melif\u001b[39;00m \u001b[38;5;28mself\u001b[39m\u001b[38;5;241m.\u001b[39m_stateful_fn \u001b[38;5;129;01mis\u001b[39;00m \u001b[38;5;129;01mnot\u001b[39;00m \u001b[38;5;28;01mNone\u001b[39;00m:\n\u001b[0;32m    949\u001b[0m   \u001b[38;5;66;03m# Release the lock early so that multiple threads can perform the call\u001b[39;00m\n\u001b[0;32m    950\u001b[0m   \u001b[38;5;66;03m# in parallel.\u001b[39;00m\n\u001b[0;32m    951\u001b[0m   \u001b[38;5;28mself\u001b[39m\u001b[38;5;241m.\u001b[39m_lock\u001b[38;5;241m.\u001b[39mrelease()\n",
      "File \u001b[1;32m~\\anaconda3\\envs\\py310\\lib\\site-packages\\tensorflow\\python\\eager\\function.py:2496\u001b[0m, in \u001b[0;36mFunction.__call__\u001b[1;34m(self, *args, **kwargs)\u001b[0m\n\u001b[0;32m   2493\u001b[0m \u001b[38;5;28;01mwith\u001b[39;00m \u001b[38;5;28mself\u001b[39m\u001b[38;5;241m.\u001b[39m_lock:\n\u001b[0;32m   2494\u001b[0m   (graph_function,\n\u001b[0;32m   2495\u001b[0m    filtered_flat_args) \u001b[38;5;241m=\u001b[39m \u001b[38;5;28mself\u001b[39m\u001b[38;5;241m.\u001b[39m_maybe_define_function(args, kwargs)\n\u001b[1;32m-> 2496\u001b[0m \u001b[38;5;28;01mreturn\u001b[39;00m \u001b[43mgraph_function\u001b[49m\u001b[38;5;241;43m.\u001b[39;49m\u001b[43m_call_flat\u001b[49m\u001b[43m(\u001b[49m\n\u001b[0;32m   2497\u001b[0m \u001b[43m    \u001b[49m\u001b[43mfiltered_flat_args\u001b[49m\u001b[43m,\u001b[49m\u001b[43m \u001b[49m\u001b[43mcaptured_inputs\u001b[49m\u001b[38;5;241;43m=\u001b[39;49m\u001b[43mgraph_function\u001b[49m\u001b[38;5;241;43m.\u001b[39;49m\u001b[43mcaptured_inputs\u001b[49m\u001b[43m)\u001b[49m\n",
      "File \u001b[1;32m~\\anaconda3\\envs\\py310\\lib\\site-packages\\tensorflow\\python\\eager\\function.py:1862\u001b[0m, in \u001b[0;36mConcreteFunction._call_flat\u001b[1;34m(self, args, captured_inputs, cancellation_manager)\u001b[0m\n\u001b[0;32m   1858\u001b[0m possible_gradient_type \u001b[38;5;241m=\u001b[39m gradients_util\u001b[38;5;241m.\u001b[39mPossibleTapeGradientTypes(args)\n\u001b[0;32m   1859\u001b[0m \u001b[38;5;28;01mif\u001b[39;00m (possible_gradient_type \u001b[38;5;241m==\u001b[39m gradients_util\u001b[38;5;241m.\u001b[39mPOSSIBLE_GRADIENT_TYPES_NONE\n\u001b[0;32m   1860\u001b[0m     \u001b[38;5;129;01mand\u001b[39;00m executing_eagerly):\n\u001b[0;32m   1861\u001b[0m   \u001b[38;5;66;03m# No tape is watching; skip to running the function.\u001b[39;00m\n\u001b[1;32m-> 1862\u001b[0m   \u001b[38;5;28;01mreturn\u001b[39;00m \u001b[38;5;28mself\u001b[39m\u001b[38;5;241m.\u001b[39m_build_call_outputs(\u001b[38;5;28;43mself\u001b[39;49m\u001b[38;5;241;43m.\u001b[39;49m\u001b[43m_inference_function\u001b[49m\u001b[38;5;241;43m.\u001b[39;49m\u001b[43mcall\u001b[49m\u001b[43m(\u001b[49m\n\u001b[0;32m   1863\u001b[0m \u001b[43m      \u001b[49m\u001b[43mctx\u001b[49m\u001b[43m,\u001b[49m\u001b[43m \u001b[49m\u001b[43margs\u001b[49m\u001b[43m,\u001b[49m\u001b[43m \u001b[49m\u001b[43mcancellation_manager\u001b[49m\u001b[38;5;241;43m=\u001b[39;49m\u001b[43mcancellation_manager\u001b[49m\u001b[43m)\u001b[49m)\n\u001b[0;32m   1864\u001b[0m forward_backward \u001b[38;5;241m=\u001b[39m \u001b[38;5;28mself\u001b[39m\u001b[38;5;241m.\u001b[39m_select_forward_and_backward_functions(\n\u001b[0;32m   1865\u001b[0m     args,\n\u001b[0;32m   1866\u001b[0m     possible_gradient_type,\n\u001b[0;32m   1867\u001b[0m     executing_eagerly)\n\u001b[0;32m   1868\u001b[0m forward_function, args_with_tangents \u001b[38;5;241m=\u001b[39m forward_backward\u001b[38;5;241m.\u001b[39mforward()\n",
      "File \u001b[1;32m~\\anaconda3\\envs\\py310\\lib\\site-packages\\tensorflow\\python\\eager\\function.py:499\u001b[0m, in \u001b[0;36m_EagerDefinedFunction.call\u001b[1;34m(self, ctx, args, cancellation_manager)\u001b[0m\n\u001b[0;32m    497\u001b[0m \u001b[38;5;28;01mwith\u001b[39;00m _InterpolateFunctionError(\u001b[38;5;28mself\u001b[39m):\n\u001b[0;32m    498\u001b[0m   \u001b[38;5;28;01mif\u001b[39;00m cancellation_manager \u001b[38;5;129;01mis\u001b[39;00m \u001b[38;5;28;01mNone\u001b[39;00m:\n\u001b[1;32m--> 499\u001b[0m     outputs \u001b[38;5;241m=\u001b[39m \u001b[43mexecute\u001b[49m\u001b[38;5;241;43m.\u001b[39;49m\u001b[43mexecute\u001b[49m\u001b[43m(\u001b[49m\n\u001b[0;32m    500\u001b[0m \u001b[43m        \u001b[49m\u001b[38;5;28;43mstr\u001b[39;49m\u001b[43m(\u001b[49m\u001b[38;5;28;43mself\u001b[39;49m\u001b[38;5;241;43m.\u001b[39;49m\u001b[43msignature\u001b[49m\u001b[38;5;241;43m.\u001b[39;49m\u001b[43mname\u001b[49m\u001b[43m)\u001b[49m\u001b[43m,\u001b[49m\n\u001b[0;32m    501\u001b[0m \u001b[43m        \u001b[49m\u001b[43mnum_outputs\u001b[49m\u001b[38;5;241;43m=\u001b[39;49m\u001b[38;5;28;43mself\u001b[39;49m\u001b[38;5;241;43m.\u001b[39;49m\u001b[43m_num_outputs\u001b[49m\u001b[43m,\u001b[49m\n\u001b[0;32m    502\u001b[0m \u001b[43m        \u001b[49m\u001b[43minputs\u001b[49m\u001b[38;5;241;43m=\u001b[39;49m\u001b[43margs\u001b[49m\u001b[43m,\u001b[49m\n\u001b[0;32m    503\u001b[0m \u001b[43m        \u001b[49m\u001b[43mattrs\u001b[49m\u001b[38;5;241;43m=\u001b[39;49m\u001b[43mattrs\u001b[49m\u001b[43m,\u001b[49m\n\u001b[0;32m    504\u001b[0m \u001b[43m        \u001b[49m\u001b[43mctx\u001b[49m\u001b[38;5;241;43m=\u001b[39;49m\u001b[43mctx\u001b[49m\u001b[43m)\u001b[49m\n\u001b[0;32m    505\u001b[0m   \u001b[38;5;28;01melse\u001b[39;00m:\n\u001b[0;32m    506\u001b[0m     outputs \u001b[38;5;241m=\u001b[39m execute\u001b[38;5;241m.\u001b[39mexecute_with_cancellation(\n\u001b[0;32m    507\u001b[0m         \u001b[38;5;28mstr\u001b[39m(\u001b[38;5;28mself\u001b[39m\u001b[38;5;241m.\u001b[39msignature\u001b[38;5;241m.\u001b[39mname),\n\u001b[0;32m    508\u001b[0m         num_outputs\u001b[38;5;241m=\u001b[39m\u001b[38;5;28mself\u001b[39m\u001b[38;5;241m.\u001b[39m_num_outputs,\n\u001b[1;32m   (...)\u001b[0m\n\u001b[0;32m    511\u001b[0m         ctx\u001b[38;5;241m=\u001b[39mctx,\n\u001b[0;32m    512\u001b[0m         cancellation_manager\u001b[38;5;241m=\u001b[39mcancellation_manager)\n",
      "File \u001b[1;32m~\\anaconda3\\envs\\py310\\lib\\site-packages\\tensorflow\\python\\eager\\execute.py:54\u001b[0m, in \u001b[0;36mquick_execute\u001b[1;34m(op_name, num_outputs, inputs, attrs, ctx, name)\u001b[0m\n\u001b[0;32m     52\u001b[0m \u001b[38;5;28;01mtry\u001b[39;00m:\n\u001b[0;32m     53\u001b[0m   ctx\u001b[38;5;241m.\u001b[39mensure_initialized()\n\u001b[1;32m---> 54\u001b[0m   tensors \u001b[38;5;241m=\u001b[39m \u001b[43mpywrap_tfe\u001b[49m\u001b[38;5;241;43m.\u001b[39;49m\u001b[43mTFE_Py_Execute\u001b[49m\u001b[43m(\u001b[49m\u001b[43mctx\u001b[49m\u001b[38;5;241;43m.\u001b[39;49m\u001b[43m_handle\u001b[49m\u001b[43m,\u001b[49m\u001b[43m \u001b[49m\u001b[43mdevice_name\u001b[49m\u001b[43m,\u001b[49m\u001b[43m \u001b[49m\u001b[43mop_name\u001b[49m\u001b[43m,\u001b[49m\n\u001b[0;32m     55\u001b[0m \u001b[43m                                      \u001b[49m\u001b[43minputs\u001b[49m\u001b[43m,\u001b[49m\u001b[43m \u001b[49m\u001b[43mattrs\u001b[49m\u001b[43m,\u001b[49m\u001b[43m \u001b[49m\u001b[43mnum_outputs\u001b[49m\u001b[43m)\u001b[49m\n\u001b[0;32m     56\u001b[0m \u001b[38;5;28;01mexcept\u001b[39;00m core\u001b[38;5;241m.\u001b[39m_NotOkStatusException \u001b[38;5;28;01mas\u001b[39;00m e:\n\u001b[0;32m     57\u001b[0m   \u001b[38;5;28;01mif\u001b[39;00m name \u001b[38;5;129;01mis\u001b[39;00m \u001b[38;5;129;01mnot\u001b[39;00m \u001b[38;5;28;01mNone\u001b[39;00m:\n",
      "\u001b[1;31mKeyboardInterrupt\u001b[0m: "
     ]
    }
   ],
   "source": [
    "from tensorflow.keras.callbacks import ModelCheckpoint\n",
    "\n",
    "# Define the ModelCheckpoint callback to save the model using the 'SavedModel' format\n",
    "checkpoint = ModelCheckpoint('best_model', monitor='val_accuracy', verbose=1, save_best_only=True, mode='max', save_format='tf')\n",
    "\n",
    "# Initialize the generator with the custom augmentations\n",
    "custom_data_generator = CustomImageDataGenerator(x_train, y_train, batch_size=128, augmentations=custom_augmentations)\n",
    "\n",
    "# Train the model using the custom data generator\n",
    "history = model.fit(custom_data_generator,\n",
    "                    steps_per_epoch=len(x_train) // 128,\n",
    "                    epochs=250, \n",
    "                    validation_data=(x_test, y_test),\n",
    "                    callbacks=[checkpoint])  # Include the checkpoint callback here"
   ]
  },
  {
   "cell_type": "code",
   "execution_count": null,
   "id": "1476c50e-1028-4361-a101-5232704a6b8a",
   "metadata": {},
   "outputs": [],
   "source": []
  },
  {
   "cell_type": "code",
   "execution_count": null,
   "id": "17fff418-1aee-4256-a9f5-62c3346b2495",
   "metadata": {},
   "outputs": [],
   "source": []
  },
  {
   "cell_type": "code",
   "execution_count": null,
   "id": "2bd0ea73-9e8d-4a78-99ec-1fd6ee3f0b46",
   "metadata": {},
   "outputs": [],
   "source": []
  }
 ],
 "metadata": {
  "kernelspec": {
   "display_name": "Python 3 (ipykernel)",
   "language": "python",
   "name": "python3"
  },
  "language_info": {
   "codemirror_mode": {
    "name": "ipython",
    "version": 3
   },
   "file_extension": ".py",
   "mimetype": "text/x-python",
   "name": "python",
   "nbconvert_exporter": "python",
   "pygments_lexer": "ipython3",
   "version": "3.10.13"
  }
 },
 "nbformat": 4,
 "nbformat_minor": 5
}
